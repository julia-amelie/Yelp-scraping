{
 "cells": [
  {
   "cell_type": "code",
   "execution_count": 73,
   "id": "53b2d144",
   "metadata": {},
   "outputs": [],
   "source": [
    "#! pip install beautifulsoup4, requests\n",
    "# !pip install selenium\n",
    "import requests\n",
    "from bs4 import BeautifulSoup\n",
    "import pandas as pd\n",
    "from selenium import webdriver\n",
    "from time import sleep\n",
    "from selenium import webdriver\n",
    "from bs4 import BeautifulSoup\n",
    "import re\n",
    "import numpy as np\n",
    "import json\n",
    "from selenium.webdriver.support.ui import WebDriverWait\n",
    "from selenium.webdriver.support import expected_conditions as EC\n",
    "from selenium.webdriver.common.by import By\n",
    "from selenium.webdriver.support import ui\n",
    "import os\n",
    "import sys\n",
    "os.path.dirname(sys.executable)\n",
    "from selenium.common.exceptions import NoSuchElementException\n",
    "from selenium.webdriver.common.keys import Keys\n",
    "import time\n",
    "import os"
   ]
  },
  {
   "cell_type": "code",
   "execution_count": 95,
   "id": "d04bb751",
   "metadata": {},
   "outputs": [
    {
     "data": {
      "text/plain": [
       "b'<!DOCTYPE html><html lang=\"en-US\" prefix=\"og: http://ogp.me/ns#\" style=\"margin: 0;padding: 0; border: 0; font-size: 100%; font: inherit; vertical-align: baseline;\"><head><script>document.documentElement.className=document.documentElement.className.replace(/\\x08no-js\\x08/,\"js\");</script><meta http-equiv=\"Content-Type\" content=\"text/html; charset=UTF-8\" /><meta http-equiv=\"Content-Language\" content=\"en-US\" /><meta name=\"viewport\" content=\"width=device-width, initial-scale=1, shrink-to-fit=no\"><link rel='"
      ]
     },
     "execution_count": 95,
     "metadata": {},
     "output_type": "execute_result"
    }
   ],
   "source": [
    "url = \"https://www.yelp.com/search?find_desc=Restaurants&find_loc=Milwaukee%2C%20WI&start=230\"\n",
    "html = requests.get(url)\n",
    "html.content[0:500]"
   ]
  },
  {
   "cell_type": "code",
   "execution_count": 96,
   "id": "ca66fecc",
   "metadata": {},
   "outputs": [],
   "source": [
    "# Making the soup\n",
    "from bs4 import BeautifulSoup\n",
    "soup = BeautifulSoup(html.content, 'lxml')"
   ]
  },
  {
   "cell_type": "code",
   "execution_count": 150,
   "id": "b473369a",
   "metadata": {},
   "outputs": [
    {
     "name": "stdout",
     "output_type": "stream",
     "text": [
      "['Swingin’ Door Exchange', 'Story Hill BKC', 'Mad Rooster Cafe', 'Maxie’s', 'View MKE', 'Tusk', 'Triciclo Peru', 'St Paul Fish Company', 'Lazo’s Taco Shack', 'Five O’Clock Steakhouse', 'Blue Bat Kitchen and Tequilaria', 'Odd Duck', 'Public Table', 'Third Coast Provisions', 'Fool’s Errand', 'The Capital Grille', 'SweetDiner', 'Blue’s Egg - Milwaukee', 'Amilinda', 'Toast', 'Harbor House', 'La Merenda', 'Sobelman’s Pub & Grill', 'Uncle Wolfie’s Breakfast Tavern', 'Smoke Shack', 'Tangled Noodles', 'Momo Mee', 'Camino', 'The Tandem', 'MOVIDA - Hotel Madrid', 'Char’d', 'DanDan', 'The Noble', 'Le Reve Patisserie & Café', 'Tavo’s Signature Cuisine', 'Ca’Lucchenzo', 'Lowcountry Milwaukee', 'Morel', 'The Diplomat', 'The Explorium Brewpub Third Ward', 'Oscar’s Pub & Grill', 'Bavette', 'San Giorgio Pizzeria Napoletana', 'Buckley’s Restaurant & Bar', 'Stella Van Buren', 'Oak Barrel Public House', 'The Fitz', 'The Chef’s Table', 'Tied House Milwaukee', 'Café Benelux', 'Birch + Butcher', 'The Original', 'Boo Boo’s Sandwiches', 'Mo’s A Place For Steaks', 'Double B’s BBQ', 'Tre Rivali', 'Egg & Flour Pasta Bar', 'Lucky Ginger', 'Zarletti', 'The Dark Room at Saint Kate - Temp. CLOSED', 'Blue Star Cafe', 'Bento Xpert', 'Onesto', 'Carnevor Steakhouse Moderne', 'Spicy Tuna', 'Milwaukee Brat House', 'La Casa De Alberto Mexican Food', 'Ono Kine Grindz', 'Engine Company No. 3', 'On The Bayou', 'ARIA', 'Daddys Soul Food Grille', 'La Masa Empanada Bar', 'Eldr+Rime', 'Orenda Cafe', '2Mesa Mexican Eatery', 'Cavas', 'Buckatabon Tavern & Supper Club', 'Honcho Truck MKE', 'Black Sheep', 'Bowls To Go', 'Calderone Club', 'Xankia', 'Sanford Restaurant', 'Paloma Taco And Tequila', 'AJ Bombers', 'Santino’s Little Italy', 'The Vanguard', 'Neighborhood Draft', 'Jackson Grill', 'Aperitivo', 'Maki Yaki Japanese Grill', 'Proof Pizza', 'Tua Pasta', 'Who’s On Third', 'Brunch', 'Twisted Fisherman Crab Shack', 'Wy’east Pizza', 'Taste Amir’s Roti', 'Sabrosa Cafe & Gallery', 'Kawa Ramen & Sushi', 'Wild Roots', 'Dorsia', 'McBob’s', 'Cosmos Café', 'Elsa’s On the Park', 'Eddie Martini’s', 'Seoul Korean Restaurant', 'Oak & Oyster', 'Sabor Tropical Restaurant and Lounge', 'The Social', 'Uncle Bucks on 3rd', 'Balistreri’s Italian American Ristorante', 'Chef Paz Restaurant', 'Easy Tyger', 'Tricklebee Café', 'Meat on the Street', 'Café Hollander Tosa Village', 'Fuel Cafe 5th', 'Three Brothers', 'The Wicked Hop', 'Troop Cafe', 'Vientiane Noodle Shop', 'Goodkind', 'The Broken Yolk', 'Tosa Bowl and Bun', 'Fixture Pizza Pub', 'Two Brothers', 'Merriment Social', '414 Bar + Kitchen', 'Caradaro Club', 'Kin by Rice n Roll', 'Third Street Tavern', 'Restaurant To Be Named Later', 'Cafe Lulu', 'Bacchus - A Bartolotta Restaurant', 'Carson’s Ribs', 'Mason Street Grill', 'Wilma’s Smokehouse', 'Fred’s Frozen Custard & Grill', 'Bottle House 42', 'Mistral', 'Final Approach', 'Brüdd Cafe', 'Uppa Yard', 'Siam Thai', 'Firefly Tosa', 'Heaven’s Table BBQ', 'Lucky Joe’s Tosa', 'El Tlaxcalteca Restaurant', 'The Packing House', 'Rock Bottom Restaurant & Brewery', 'Wonderland Diner', 'Cubanitas', 'Tavolino - Wine, Pasta & Pizza', 'Conway’s Smokin’ Bar & Grill', 'North Avenue Grill', 'Milwaukee Steakhouse', 'Braise', 'Lazy Susan MKE', 'Old German Beer Hall', 'Artisan Ramen', 'Michael’s Family Restaurant', 'Sobelmans Pub N Grill', 'Blackwood Brothers', 'Dugout 54', 'Pete’s Pub', 'Vagabond', 'Tiki Bar MKE Public Market', 'Festival Foods', 'Egg & Flour Pasta Bar', 'Hamburger Mary’s', 'Lux Domes', 'Ash', 'Ardent', 'Shake Shack', 'Balzac', 'The Fatty Patty', 'Botanas Restaurant', 'Zocalo', 'The White House', 'Milwaukee Sail Loft', 'Crawdaddy’s on Greenfield', 'Balistreri’s Bluemound Inn', 'Honeypie Cafe', 'Milwaukee Ale House', 'East Town Kitchen & Bar', 'Wauwatiki Bar & Grill', 'Rare Steakhouse', 'Merge', 'Ristorante Bartolotta dal 1993', 'Highlands Cafe', 'Cranky Al’s', 'Jizzles Sandwich Shop', 'Sorella', 'C-Viche', 'Egg and Flour Pasta Bar', 'Guadalajara Restaurant', 'Jamaican Kitchen & Grill', 'Thai Kitchen', 'Oggie’s', 'Bamboo', 'Flour Girl and Flame', 'Red Light Ramen', 'Charles E Fromage', 'Bodegón', 'Beerline Cafe', 'Coffee Makes You Black', 'J&B’s Blue Ribbon Bar and Grill', 'Barnacle Bud’s', 'Alem Ethiopian Village', 'Riley’s Good Dogs', 'Sticky Rice', 'Stone Bowl Grill', 'La Canoa', 'Richard’s Cafe', 'Allie Boy’s Bagelry & Luncheonette', 'Café Corazón', 'The Knick', 'Camino', 'Barbiere’s Italian Inn', 'Badger Burger - Brookfield', 'Saz’s State House', 'West Allis Cheese & Sausage Shoppe', 'Sugar Cube Donuts', 'Skyway Cafe', 'Taco Mikes', 'Coaches', 'The Green Kitchen', 'GYRO MKE', 'La Fondita De Milwaukee', 'Kegel’s Inn', 'Laughing Crab', 'Mader’s', 'Thainamite - Wauwatosa', 'Valley Inn', 'Rice N Roll Bistro', 'Crave Cafe', 'Deli 1614', 'Riverfront Pizzeria Bar & Grill']\n"
     ]
    }
   ],
   "source": [
    "# Getting everything also for multiple pages (here, for page 2, 3, 4, 5, and 6)\n",
    "url_yelp = \"https://www.yelp.com/search?find_desc=Restaurants&find_loc=Milwaukee%2C%20WI&start=\"\n",
    "\n",
    "\n",
    "# we initialize the links\n",
    "full_links = []\n",
    "full_restaurants = []\n",
    "\n",
    "for i in range(0,240,10):\n",
    "    \n",
    "    html = requests.get(url_yelp+str(i))\n",
    "    \n",
    "    soup = BeautifulSoup(html.content, 'lxml')\n",
    "    link = soup.select(\".css-166la90\")\n",
    "    \n",
    "    # Getting the restaurant names and the restaurant links in solation\n",
    "    name_restaurant = []\n",
    "    link_restaurant = []\n",
    "\n",
    "   \n",
    "    for l in link:\n",
    "        name_restaurant.append(l.string)\n",
    "        link_restaurant.append(l.get('href'))\n",
    "     \n",
    "    #Here we only ectract the first 10 entries\n",
    "    full_restaurants.extend(name_restaurant[0:10])\n",
    "    full_links.extend(link_restaurant[0:10])\n",
    "    \n",
    "print(full_restaurants)"
   ]
  },
  {
   "cell_type": "code",
   "execution_count": 151,
   "id": "839f3a59",
   "metadata": {},
   "outputs": [
    {
     "data": {
      "text/plain": [
       "240"
      ]
     },
     "execution_count": 151,
     "metadata": {},
     "output_type": "execute_result"
    }
   ],
   "source": [
    "len(full_restaurants)"
   ]
  },
  {
   "cell_type": "code",
   "execution_count": 152,
   "id": "bcc5e457",
   "metadata": {},
   "outputs": [],
   "source": [
    "#then we zip it together and store it in a dataframe\n",
    "entry_list = list(zip(full_restaurants, full_links))\n",
    "            \n",
    "df_mainlinks = pd.DataFrame(entry_list,columns=['restaurant', 'link'])"
   ]
  },
  {
   "cell_type": "code",
   "execution_count": 154,
   "id": "f97e73a5",
   "metadata": {},
   "outputs": [],
   "source": [
    "df_mainlinks.to_csv('mainlinks.csv')"
   ]
  },
  {
   "cell_type": "code",
   "execution_count": 3,
   "id": "3ac16183",
   "metadata": {},
   "outputs": [],
   "source": [
    "df_new = pd.read_csv('mainlinks.csv')"
   ]
  },
  {
   "cell_type": "code",
   "execution_count": 5,
   "id": "4c0a09da",
   "metadata": {},
   "outputs": [
    {
     "data": {
      "text/html": [
       "<div>\n",
       "<style scoped>\n",
       "    .dataframe tbody tr th:only-of-type {\n",
       "        vertical-align: middle;\n",
       "    }\n",
       "\n",
       "    .dataframe tbody tr th {\n",
       "        vertical-align: top;\n",
       "    }\n",
       "\n",
       "    .dataframe thead th {\n",
       "        text-align: right;\n",
       "    }\n",
       "</style>\n",
       "<table border=\"1\" class=\"dataframe\">\n",
       "  <thead>\n",
       "    <tr style=\"text-align: right;\">\n",
       "      <th></th>\n",
       "      <th>Unnamed: 0</th>\n",
       "      <th>restaurant</th>\n",
       "      <th>link</th>\n",
       "    </tr>\n",
       "  </thead>\n",
       "  <tbody>\n",
       "    <tr>\n",
       "      <th>0</th>\n",
       "      <td>0</td>\n",
       "      <td>Swingin’ Door Exchange</td>\n",
       "      <td>/biz/swingin-door-exchange-milwaukee?osq=Resta...</td>\n",
       "    </tr>\n",
       "    <tr>\n",
       "      <th>1</th>\n",
       "      <td>1</td>\n",
       "      <td>Story Hill BKC</td>\n",
       "      <td>/biz/story-hill-bkc-milwaukee?osq=Restaurants</td>\n",
       "    </tr>\n",
       "    <tr>\n",
       "      <th>2</th>\n",
       "      <td>2</td>\n",
       "      <td>Mad Rooster Cafe</td>\n",
       "      <td>/biz/mad-rooster-cafe-west-milwaukee?osq=Resta...</td>\n",
       "    </tr>\n",
       "    <tr>\n",
       "      <th>3</th>\n",
       "      <td>3</td>\n",
       "      <td>Maxie’s</td>\n",
       "      <td>/biz/maxies-milwaukee?osq=Restaurants</td>\n",
       "    </tr>\n",
       "    <tr>\n",
       "      <th>4</th>\n",
       "      <td>4</td>\n",
       "      <td>View MKE</td>\n",
       "      <td>/biz/view-mke-milwaukee?osq=Restaurants</td>\n",
       "    </tr>\n",
       "    <tr>\n",
       "      <th>...</th>\n",
       "      <td>...</td>\n",
       "      <td>...</td>\n",
       "      <td>...</td>\n",
       "    </tr>\n",
       "    <tr>\n",
       "      <th>235</th>\n",
       "      <td>235</td>\n",
       "      <td>Valley Inn</td>\n",
       "      <td>/biz/valley-inn-milwaukee?osq=Restaurants</td>\n",
       "    </tr>\n",
       "    <tr>\n",
       "      <th>236</th>\n",
       "      <td>236</td>\n",
       "      <td>Rice N Roll Bistro</td>\n",
       "      <td>/biz/rice-n-roll-bistro-milwaukee?osq=Restaurants</td>\n",
       "    </tr>\n",
       "    <tr>\n",
       "      <th>237</th>\n",
       "      <td>237</td>\n",
       "      <td>Crave Cafe</td>\n",
       "      <td>/biz/crave-cafe-shorewood?osq=Restaurants</td>\n",
       "    </tr>\n",
       "    <tr>\n",
       "      <th>238</th>\n",
       "      <td>238</td>\n",
       "      <td>Deli 1614</td>\n",
       "      <td>/biz/deli-1614-milwaukee?osq=Restaurants</td>\n",
       "    </tr>\n",
       "    <tr>\n",
       "      <th>239</th>\n",
       "      <td>239</td>\n",
       "      <td>Riverfront Pizzeria Bar &amp; Grill</td>\n",
       "      <td>/biz/riverfront-pizzeria-bar-and-grill-milwauk...</td>\n",
       "    </tr>\n",
       "  </tbody>\n",
       "</table>\n",
       "<p>240 rows × 3 columns</p>\n",
       "</div>"
      ],
      "text/plain": [
       "     Unnamed: 0                       restaurant  \\\n",
       "0             0           Swingin’ Door Exchange   \n",
       "1             1                   Story Hill BKC   \n",
       "2             2                 Mad Rooster Cafe   \n",
       "3             3                          Maxie’s   \n",
       "4             4                         View MKE   \n",
       "..          ...                              ...   \n",
       "235         235                       Valley Inn   \n",
       "236         236               Rice N Roll Bistro   \n",
       "237         237                       Crave Cafe   \n",
       "238         238                        Deli 1614   \n",
       "239         239  Riverfront Pizzeria Bar & Grill   \n",
       "\n",
       "                                                  link  \n",
       "0    /biz/swingin-door-exchange-milwaukee?osq=Resta...  \n",
       "1        /biz/story-hill-bkc-milwaukee?osq=Restaurants  \n",
       "2    /biz/mad-rooster-cafe-west-milwaukee?osq=Resta...  \n",
       "3                /biz/maxies-milwaukee?osq=Restaurants  \n",
       "4              /biz/view-mke-milwaukee?osq=Restaurants  \n",
       "..                                                 ...  \n",
       "235          /biz/valley-inn-milwaukee?osq=Restaurants  \n",
       "236  /biz/rice-n-roll-bistro-milwaukee?osq=Restaurants  \n",
       "237          /biz/crave-cafe-shorewood?osq=Restaurants  \n",
       "238           /biz/deli-1614-milwaukee?osq=Restaurants  \n",
       "239  /biz/riverfront-pizzeria-bar-and-grill-milwauk...  \n",
       "\n",
       "[240 rows x 3 columns]"
      ]
     },
     "execution_count": 5,
     "metadata": {},
     "output_type": "execute_result"
    }
   ],
   "source": [
    "df_new"
   ]
  },
  {
   "cell_type": "code",
   "execution_count": 6,
   "id": "b9d012e7",
   "metadata": {},
   "outputs": [],
   "source": [
    "#let's us regex to clean the df\n",
    "import re"
   ]
  },
  {
   "cell_type": "code",
   "execution_count": 7,
   "id": "1234a40e",
   "metadata": {},
   "outputs": [],
   "source": [
    "#we convert everyting to strings, and then exclude those rows where the column Links contains a https\n",
    "df_new['restaurant'] = df_new.restaurant.astype('str') \n",
    "df_new['link'] = df_new.link.astype('str') "
   ]
  },
  {
   "cell_type": "code",
   "execution_count": 8,
   "id": "7bb107d7",
   "metadata": {},
   "outputs": [],
   "source": [
    "'''then we complete the links colum for the full URL'''\n",
    "\n",
    "df_new['Complete_links']= df_new['link'].apply(lambda x:\"https://www.yelp.com\"+str(x))"
   ]
  },
  {
   "cell_type": "code",
   "execution_count": 9,
   "id": "ea86b776",
   "metadata": {},
   "outputs": [
    {
     "data": {
      "text/plain": [
       "0      /biz/swingin-door-exchange-milwaukee?osq=Resta...\n",
       "1          /biz/story-hill-bkc-milwaukee?osq=Restaurants\n",
       "2      /biz/mad-rooster-cafe-west-milwaukee?osq=Resta...\n",
       "3                  /biz/maxies-milwaukee?osq=Restaurants\n",
       "4                /biz/view-mke-milwaukee?osq=Restaurants\n",
       "                             ...                        \n",
       "235            /biz/valley-inn-milwaukee?osq=Restaurants\n",
       "236    /biz/rice-n-roll-bistro-milwaukee?osq=Restaurants\n",
       "237            /biz/crave-cafe-shorewood?osq=Restaurants\n",
       "238             /biz/deli-1614-milwaukee?osq=Restaurants\n",
       "239    /biz/riverfront-pizzeria-bar-and-grill-milwauk...\n",
       "Name: link, Length: 240, dtype: object"
      ]
     },
     "execution_count": 9,
     "metadata": {},
     "output_type": "execute_result"
    }
   ],
   "source": [
    "df_new.pop('link')"
   ]
  },
  {
   "cell_type": "code",
   "execution_count": 10,
   "id": "f57ca24c",
   "metadata": {},
   "outputs": [
    {
     "data": {
      "text/plain": [
       "240"
      ]
     },
     "execution_count": 10,
     "metadata": {},
     "output_type": "execute_result"
    }
   ],
   "source": [
    "len(df_new) "
   ]
  },
  {
   "cell_type": "code",
   "execution_count": 12,
   "id": "f70ffa72",
   "metadata": {},
   "outputs": [
    {
     "data": {
      "text/plain": [
       "restaurant\n",
       "Camino                    2\n",
       "Egg & Flour Pasta Bar     2\n",
       "2Mesa Mexican Eatery      1\n",
       "Rice N Roll Bistro        1\n",
       "Richard’s Cafe            1\n",
       "                         ..\n",
       "Fuel Cafe 5th             1\n",
       "GYRO MKE                  1\n",
       "Goodkind                  1\n",
       "Guadalajara Restaurant    1\n",
       "Zocalo                    1\n",
       "Length: 238, dtype: int64"
      ]
     },
     "execution_count": 12,
     "metadata": {},
     "output_type": "execute_result"
    }
   ],
   "source": [
    "# we see that there are two duplicate restaurants, which we can drop subsequnetly\n",
    "df_new.groupby(['restaurant']).size().sort_values(ascending=False)"
   ]
  },
  {
   "cell_type": "code",
   "execution_count": 76,
   "id": "06d5c203",
   "metadata": {},
   "outputs": [],
   "source": [
    "df_new.drop_duplicates(keep='first', inplace=True)"
   ]
  },
  {
   "cell_type": "code",
   "execution_count": 78,
   "id": "63c0d15f",
   "metadata": {},
   "outputs": [],
   "source": [
    "df_new.to_csv('links.csv',index=False,header=True,encoding='utf8')"
   ]
  },
  {
   "cell_type": "markdown",
   "id": "424a7326",
   "metadata": {},
   "source": [
    "### Next, we scrape all the details about the restaurants with a web driver and the selenium package"
   ]
  },
  {
   "cell_type": "code",
   "execution_count": 85,
   "id": "9b2f2bf5",
   "metadata": {},
   "outputs": [],
   "source": [
    "df = pd.read_csv('links.csv')"
   ]
  },
  {
   "cell_type": "code",
   "execution_count": 86,
   "id": "6f03eeec",
   "metadata": {},
   "outputs": [
    {
     "data": {
      "text/html": [
       "<div>\n",
       "<style scoped>\n",
       "    .dataframe tbody tr th:only-of-type {\n",
       "        vertical-align: middle;\n",
       "    }\n",
       "\n",
       "    .dataframe tbody tr th {\n",
       "        vertical-align: top;\n",
       "    }\n",
       "\n",
       "    .dataframe thead th {\n",
       "        text-align: right;\n",
       "    }\n",
       "</style>\n",
       "<table border=\"1\" class=\"dataframe\">\n",
       "  <thead>\n",
       "    <tr style=\"text-align: right;\">\n",
       "      <th></th>\n",
       "      <th>Restaurant</th>\n",
       "      <th>Complete_links</th>\n",
       "    </tr>\n",
       "  </thead>\n",
       "  <tbody>\n",
       "    <tr>\n",
       "      <th>205</th>\n",
       "      <td>La Fondita De Milwaukee</td>\n",
       "      <td>https://www.yelp.com/biz/la-fondita-de-milwauk...</td>\n",
       "    </tr>\n",
       "    <tr>\n",
       "      <th>206</th>\n",
       "      <td>Taqueria Buenavista</td>\n",
       "      <td>https://www.yelp.com/biz/taqueria-buenavista-m...</td>\n",
       "    </tr>\n",
       "    <tr>\n",
       "      <th>207</th>\n",
       "      <td>Michael’s Family Restaurant</td>\n",
       "      <td>https://www.yelp.com/biz/michaels-family-resta...</td>\n",
       "    </tr>\n",
       "    <tr>\n",
       "      <th>208</th>\n",
       "      <td>Triskele’s</td>\n",
       "      <td>https://www.yelp.com/biz/triskeles-milwaukee?o...</td>\n",
       "    </tr>\n",
       "    <tr>\n",
       "      <th>209</th>\n",
       "      <td>El Beso Milwaukee - Mexican Restaurante &amp; Cantina</td>\n",
       "      <td>https://www.yelp.com/biz/el-beso-milwaukee-mex...</td>\n",
       "    </tr>\n",
       "  </tbody>\n",
       "</table>\n",
       "</div>"
      ],
      "text/plain": [
       "                                            Restaurant  \\\n",
       "205                            La Fondita De Milwaukee   \n",
       "206                                Taqueria Buenavista   \n",
       "207                        Michael’s Family Restaurant   \n",
       "208                                         Triskele’s   \n",
       "209  El Beso Milwaukee - Mexican Restaurante & Cantina   \n",
       "\n",
       "                                        Complete_links  \n",
       "205  https://www.yelp.com/biz/la-fondita-de-milwauk...  \n",
       "206  https://www.yelp.com/biz/taqueria-buenavista-m...  \n",
       "207  https://www.yelp.com/biz/michaels-family-resta...  \n",
       "208  https://www.yelp.com/biz/triskeles-milwaukee?o...  \n",
       "209  https://www.yelp.com/biz/el-beso-milwaukee-mex...  "
      ]
     },
     "execution_count": 86,
     "metadata": {},
     "output_type": "execute_result"
    }
   ],
   "source": [
    "df.tail()"
   ]
  },
  {
   "cell_type": "code",
   "execution_count": 140,
   "id": "694e7a7b",
   "metadata": {},
   "outputs": [],
   "source": [
    "'''options to avoide that actual windows are opened every time. create headless driver options'''\n",
    "options = webdriver.FirefoxOptions()\n",
    "\n",
    "#these options are set so that a browser doesn't actually open everytime we scrape\n",
    "options.add_argument('--ignore-certificate-errors')\n",
    "options.add_argument('--incognito')\n",
    "options.add_argument('--headless')"
   ]
  },
  {
   "cell_type": "code",
   "execution_count": 5,
   "id": "87af37b7",
   "metadata": {},
   "outputs": [],
   "source": [
    "Links = df.Complete_links.to_list() #in the formula below Links is equal to Li\n",
    "Restaurants = df.Restaurant.to_list() #in the formula below Restaurants is equal to Rest"
   ]
  },
  {
   "cell_type": "code",
   "execution_count": 141,
   "id": "ad598a44",
   "metadata": {},
   "outputs": [
    {
     "name": "stdout",
     "output_type": "stream",
     "text": [
      "no ammenities\n"
     ]
    }
   ],
   "source": [
    "''' Here we can make a little test run'''\n",
    "\n",
    "time.sleep(3)\n",
    "driver = webdriver.Firefox() #options=options \n",
    "driver.get('https://www.yelp.com/biz/highlands-cafe-wauwatosa?osq=Restaurants')\n",
    "\n",
    "driver.maximize_window()\n",
    "time.sleep(3)\n",
    "\n",
    "#we first need to get rid of the privacy concern button so we click it\n",
    "driver.find_element_by_css_selector('.onetrust-lg').click()\n",
    "\n",
    "#then we wait until that click is processed, before we click the button where all the amenties are extended\n",
    "time.sleep(3)\n",
    "try:\n",
    "    driver.find_element_by_css_selector(' section.margin-t4__373c0__1TRkQ:nth-child(6) > div:nth-child(2) > button:nth-child(2)').click()\n",
    "except:\n",
    "     print('no hidden amenities')\n",
    "\n",
    "try:\n",
    "    driver.find_element_by_css_selector(' div.padding-t3__373c0__1gw9E:nth-child(3) > div:nth-child(1) > div:nth-child(1) > button:nth-child(1)').click()\n",
    "    time.sleep(3)\n",
    "    driver.find_element_by_css_selector(' section.margin-t4__373c0__1TRkQ:nth-child(5) > div:nth-child(2) > button:nth-child(2)').click()\n",
    "    time.sleep(2)\n",
    "    print('child 5')\n",
    "    \n",
    "except:\n",
    "    print('no ammenities')\n",
    "    \n",
    "\n",
    "source = driver.page_source\n",
    "soup1 = BeautifulSoup(source, 'html.parser')"
   ]
  },
  {
   "cell_type": "code",
   "execution_count": 24,
   "id": "5d746fe6",
   "metadata": {},
   "outputs": [],
   "source": [
    "driver.quit()"
   ]
  },
  {
   "cell_type": "code",
   "execution_count": 25,
   "id": "895b1633",
   "metadata": {},
   "outputs": [],
   "source": [
    "Li = df_new.Complete_links.to_list()\n",
    "Rest = df_new.restaurant.to_list()"
   ]
  },
  {
   "cell_type": "code",
   "execution_count": 30,
   "id": "5b3c0588",
   "metadata": {},
   "outputs": [
    {
     "name": "stdout",
     "output_type": "stream",
     "text": [
      "no hidden amenities\n",
      "no ammenities\n",
      "no ammenities\n",
      "no ammenities\n",
      "no ammenities\n",
      "no ammenities\n",
      "no hidden amenities\n",
      "no ammenities\n",
      "no hidden amenities\n",
      "no ammenities\n",
      "no ammenities\n",
      "no ammenities\n",
      "no hidden amenities\n",
      "no ammenities\n",
      "no ammenities\n",
      "no ammenities\n",
      "no ammenities\n",
      "no ammenities\n",
      "child 5\n",
      "no ammenities\n",
      "no ammenities\n",
      "no ammenities\n",
      "no ammenities\n",
      "no hidden amenities\n",
      "no ammenities\n",
      "no ammenities\n",
      "no hidden amenities\n",
      "no ammenities\n",
      "no ammenities\n",
      "no ammenities\n",
      "no hidden amenities\n",
      "no ammenities\n",
      "child 5\n",
      "no ammenities\n",
      "no ammenities\n",
      "no hidden amenities\n",
      "no ammenities\n",
      "no ammenities\n",
      "no ammenities\n",
      "no ammenities\n",
      "no ammenities\n",
      "no hidden amenities\n",
      "no ammenities\n",
      "no hidden amenities\n",
      "no ammenities\n"
     ]
    }
   ],
   "source": [
    "'''Selenium search automation can either fetch the search item from the list or text can be entered'''\n",
    "\n",
    "df_rest = pd.DataFrame([],columns=['restaurant', 'link', 'claimed', 'number_of_reviews', 'number_of_photos', 'price', 'rating', 'categories', 'street', 'address', 'website', 'update', 'amenities'])\n",
    "\n",
    "\n",
    "#This is so we can enumerate over the restaurant names\n",
    "enum_extract = enumerate(Rest)\n",
    "\n",
    "def getname():\n",
    "    key = next(enum_extract)\n",
    "    return str(key)\n",
    "\n",
    "enum_rest = enumerate(Li)\n",
    "\n",
    "def getlink():\n",
    "    key = next(enum_rest)\n",
    "    return str(key)\n",
    "    \n",
    "\n",
    "\n",
    "for i in Li:\n",
    "    restaurant_link = []\n",
    "    restaurant_update = []\n",
    "    restaurant_description = []\n",
    "    restaurant_numberofreviews = []        \n",
    "    restaurant_photos = []\n",
    "    restaurant_rating = []\n",
    "    restaurant_street = []\n",
    "    restaurant_adress = []\n",
    "\n",
    "    restaurant_link = []\n",
    "    restaurant_price = []\n",
    "    restaurant_categories = []\n",
    "    restaurant_name = [] \n",
    "\n",
    "    restaurant_claimed = [] \n",
    "    restaurant_amenities = []\n",
    "\n",
    "    #so here we append the restaurant name\n",
    "    restname = getname()\n",
    "    restaurant_name.append(restname) \n",
    "    \n",
    "    restlink = getlink()\n",
    "    restaurant_link.append(restlink)\n",
    "    \n",
    "    try:\n",
    "            #Here we initialize a headless driver\n",
    "        time.sleep(3)\n",
    "        driver = webdriver.Firefox(options=options) #options=options \n",
    "        driver.get(i)\n",
    "\n",
    "        driver.maximize_window()\n",
    "        time.sleep(3)\n",
    "\n",
    "        #we first need to get rid of the privacy concern button so we click it\n",
    "        driver.find_element_by_css_selector('.onetrust-lg').click()\n",
    "\n",
    "        #then we wait until that click is processed, before we click the button where all the amenties are extended\n",
    "        time.sleep(3)\n",
    "        \n",
    "        try:\n",
    "            driver.find_element_by_css_selector(' section.margin-t4__373c0__1TRkQ:nth-child(6) > div:nth-child(2) > button:nth-child(2)').click()\n",
    "            time.sleep(3)\n",
    "        except:\n",
    "            print('no hidden amenities')\n",
    "        \n",
    "        try:\n",
    "            driver.find_element_by_css_selector(' div.padding-t3__373c0__1gw9E:nth-child(3) > div:nth-child(1) > div:nth-child(1) > button:nth-child(1)').click()\n",
    "            time.sleep(3)\n",
    "            driver.find_element_by_css_selector(' section.margin-t4__373c0__1TRkQ:nth-child(5) > div:nth-child(2) > button:nth-child(2)').click()\n",
    "            time.sleep(2)\n",
    "            print('child 5')\n",
    "        \n",
    "        except:\n",
    "            print('no ammenities')\n",
    "\n",
    "\n",
    "        source = driver.page_source\n",
    "        soup1 = BeautifulSoup(source, 'html.parser')\n",
    "\n",
    "\n",
    "        #now we loop over the elements in the class\n",
    "        subsoup = soup1.find_all(class_ = 'arrange-unit__373c0__1piwO border-color--default__373c0__2oFDT')\n",
    "        amenities = []\n",
    "        for k in range(len(subsoup)):\n",
    "            subamenities=subsoup[k].get_text()\n",
    "            amenities.append(subamenities)\n",
    "\n",
    "        restaurant_amenities.append(amenities) \n",
    "\n",
    "\n",
    "        #number of reviews\n",
    "        numberofreviews = soup1.select(\".css-bq71j2\") \n",
    "        restaurant_numberofreviews.append(numberofreviews[0].string)\n",
    "\n",
    "        #number of photos\n",
    "        photos = soup1.select(\".css-ardur\")\n",
    "        restaurant_photos.append(photos[4].string) \n",
    "\n",
    "        #first and second address line\n",
    "        location = soup1.select(\".raw__373c0__3rcx7\")\n",
    "        restaurant_street.append(location[0].string) \n",
    "        restaurant_adress.append(location[1].string)\n",
    "\n",
    "            #rating\n",
    "        for item in soup1.select('[class*=container]'):\n",
    "            if item.find('h4'):\n",
    "                name = item.find('h4').get_text()\n",
    "                ratings=soup1.select('[aria-label*=rating]')[0]\n",
    "                rating=str(ratings)\n",
    "                rating = re.search('aria-label=\"(.+?)star rating\"', rating)\n",
    "                if rating:\n",
    "                    rating = rating.group(1)\n",
    "\n",
    "        restaurant_rating.append(rating)\n",
    "\n",
    "        #price\n",
    "        price = soup1.select(\".css-1xxismk\")\n",
    "        price=str(price)\n",
    "        price = re.search('\"css-1xxismk\">(.+?)<', price)\n",
    "        if price:\n",
    "            price = price.group(1)\n",
    "            restaurant_price.append(price) \n",
    "\n",
    "        #categories\n",
    "        #this list needs to be inside the loop\n",
    "        categories = []\n",
    "\n",
    "        for item in soup1.select('[class*=container]'):\n",
    "            if item.find('h1'):\n",
    "                items=item.select('.css-166la90')\n",
    "                for i in items:\n",
    "                    categories.append(i.string)\n",
    "\n",
    "                restaurant_categories.append(categories)\n",
    "\n",
    "        if 'Unclaimed' not in categories:\n",
    "\n",
    "            #updates\n",
    "            update=soup1.select('.css-gdi06s')\n",
    "            restaurant_update.append(update[0].string)             \n",
    "\n",
    "\n",
    "            #homepage link\n",
    "            link = soup1.select(\".css-ac8spe\")\n",
    "            restaurant_link.append(link[6].string)\n",
    "\n",
    "\n",
    "            restaurant_claimed.append('Claimed')\n",
    "\n",
    "        else: \n",
    "            restaurant_update.append('None')\n",
    "            restaurant_link.append('None')\n",
    "            restaurant_claimed.append('Unclaimed')\n",
    "\n",
    "            driver.quit()\n",
    "\n",
    "\n",
    "    except: \n",
    "        restaurant_claimed.append('None')\n",
    "        restaurant_update.append('None')\n",
    "        restaurant_numberofreviews.append('None')\n",
    "        restaurant_photos.append('None')\n",
    "        restaurant_rating.append('None')\n",
    "        restaurant_street.append('None')\n",
    "        restaurant_adress.append('None')\n",
    "        restaurant_link.append('None')\n",
    "        restaurant_price.append('None')\n",
    "        restaurant_categories.append('None')\n",
    "        restaurant_amenities.append('None')\n",
    "            \n",
    "    finally:\n",
    "        if len(restaurant_claimed) == 0:\n",
    "            restaurant_claimed.append('None')\n",
    "                \n",
    "        if len(restaurant_update) == 0:\n",
    "            restaurant_update.append('None')\n",
    "                \n",
    "        if len(restaurant_numberofreviews) == 0:\n",
    "            restaurant_numberofreviews.append('None')\n",
    "                \n",
    "        if len(restaurant_photos) == 0:\n",
    "            restaurant_photos.append('None')\n",
    "                \n",
    "        if len(restaurant_rating) == 0:\n",
    "            restaurant_rating.append('None')\n",
    "                \n",
    "        if len(restaurant_street) == 0:\n",
    "            restaurant_street.append('None')\n",
    "                \n",
    "        if len(restaurant_adress) == 0:\n",
    "            restaurant_adress.append('None')\n",
    "                \n",
    "        if len(restaurant_link) == 0:\n",
    "            restaurant_link.append('None')\n",
    "                \n",
    "        if len(restaurant_price) == 0:\n",
    "            restaurant_price.append('None')\n",
    "                \n",
    "        if len(restaurant_categories) == 0:\n",
    "            restaurant_categories.append('None')\n",
    "                \n",
    "        if len(restaurant_amenities) == 0:\n",
    "            restaurant_amenities.append('None')\n",
    "                \n",
    "        entry_list = list(zip(restaurant_name, restaurant_link, restaurant_claimed, restaurant_numberofreviews, restaurant_photos, restaurant_price, restaurant_rating, restaurant_categories, restaurant_street, restaurant_adress, restaurant_link,restaurant_update, restaurant_amenities))\n",
    "\n",
    "            \n",
    "        df_entry = pd.DataFrame(entry_list,columns=['restaurant', 'link', 'claimed', 'number_of_reviews', 'number_of_photos', 'price', 'rating', 'categories', 'street', 'address', 'website', 'update', 'amenities'])\n",
    "            \n",
    "        frames = [df_rest, df_entry]\n",
    "        df_rest = pd.concat(frames)\n",
    "        time.sleep(5)"
   ]
  },
  {
   "cell_type": "code",
   "execution_count": 103,
   "id": "b3b6b46f",
   "metadata": {},
   "outputs": [
    {
     "data": {
      "text/plain": [
       "200"
      ]
     },
     "execution_count": 103,
     "metadata": {},
     "output_type": "execute_result"
    }
   ],
   "source": [
    "#with this code we can always check whether we got blocked by yelp, the status code should be equal to 200\n",
    "res  = requests.get('https://www.yelp.com/biz/lazos-taco-shack-milwaukee?osq=Restaurants')\n",
    "\n",
    "res.status_code"
   ]
  },
  {
   "cell_type": "markdown",
   "id": "b4f04cfe",
   "metadata": {},
   "source": [
    "### We scraped the restaurants in several gos, which is why we now have to concatinate the different frames and clean them up"
   ]
  },
  {
   "cell_type": "code",
   "execution_count": 32,
   "id": "5bc5bada",
   "metadata": {},
   "outputs": [
    {
     "data": {
      "text/html": [
       "<div>\n",
       "<style scoped>\n",
       "    .dataframe tbody tr th:only-of-type {\n",
       "        vertical-align: middle;\n",
       "    }\n",
       "\n",
       "    .dataframe tbody tr th {\n",
       "        vertical-align: top;\n",
       "    }\n",
       "\n",
       "    .dataframe thead th {\n",
       "        text-align: right;\n",
       "    }\n",
       "</style>\n",
       "<table border=\"1\" class=\"dataframe\">\n",
       "  <thead>\n",
       "    <tr style=\"text-align: right;\">\n",
       "      <th></th>\n",
       "      <th>restaurant</th>\n",
       "      <th>link</th>\n",
       "      <th>claimed</th>\n",
       "      <th>number_of_reviews</th>\n",
       "      <th>number_of_photos</th>\n",
       "      <th>price</th>\n",
       "      <th>rating</th>\n",
       "      <th>categories</th>\n",
       "      <th>street</th>\n",
       "      <th>address</th>\n",
       "      <th>website</th>\n",
       "      <th>update</th>\n",
       "      <th>amenities</th>\n",
       "    </tr>\n",
       "  </thead>\n",
       "  <tbody>\n",
       "    <tr>\n",
       "      <th>0</th>\n",
       "      <td>(30, 'Skyway Cafe')</td>\n",
       "      <td>(30, 'https://www.yelp.com/biz/skyway-cafe-mil...</td>\n",
       "      <td>Unclaimed</td>\n",
       "      <td>13 reviews</td>\n",
       "      <td>See 23 photos</td>\n",
       "      <td>$</td>\n",
       "      <td>4.5</td>\n",
       "      <td>[Unclaimed, Cafes]</td>\n",
       "      <td>626 East Wisconsin Ave</td>\n",
       "      <td>Ground floor</td>\n",
       "      <td>(30, 'https://www.yelp.com/biz/skyway-cafe-mil...</td>\n",
       "      <td>None</td>\n",
       "      <td>[, For BusinessesWrite a ReviewLog InSign Up, ...</td>\n",
       "    </tr>\n",
       "    <tr>\n",
       "      <th>0</th>\n",
       "      <td>(31, 'The Green Kitchen')</td>\n",
       "      <td>(31, 'https://www.yelp.com/biz/the-green-kitch...</td>\n",
       "      <td>Unclaimed</td>\n",
       "      <td>164 reviews</td>\n",
       "      <td>See 77 photos</td>\n",
       "      <td>$</td>\n",
       "      <td>4</td>\n",
       "      <td>[Unclaimed, Vegetarian, Sandwiches]</td>\n",
       "      <td>400 N Water St</td>\n",
       "      <td>Milwaukee, WI 53202</td>\n",
       "      <td>(31, 'https://www.yelp.com/biz/the-green-kitch...</td>\n",
       "      <td>None</td>\n",
       "      <td>[, For BusinessesWrite a ReviewLog InSign Up, ...</td>\n",
       "    </tr>\n",
       "    <tr>\n",
       "      <th>0</th>\n",
       "      <td>(32, 'Thainamite - Wauwatosa')</td>\n",
       "      <td>(32, 'https://www.yelp.com/biz/thainamite-wauw...</td>\n",
       "      <td>Claimed</td>\n",
       "      <td>141 reviews</td>\n",
       "      <td>See 134 photos</td>\n",
       "      <td>$$</td>\n",
       "      <td>3.5</td>\n",
       "      <td>[Thai, Sushi Bars, Cocktail Bars]</td>\n",
       "      <td>8725 W North Ave</td>\n",
       "      <td>Wauwatosa, WI 53226</td>\n",
       "      <td>(32, 'https://www.yelp.com/biz/thainamite-wauw...</td>\n",
       "      <td>None</td>\n",
       "      <td>[, For BusinessesWrite a ReviewLog InSign Up, ...</td>\n",
       "    </tr>\n",
       "    <tr>\n",
       "      <th>0</th>\n",
       "      <td>(33, 'Deli 1614')</td>\n",
       "      <td>(33, 'https://www.yelp.com/biz/deli-1614-milwa...</td>\n",
       "      <td>Unclaimed</td>\n",
       "      <td>17 reviews</td>\n",
       "      <td>See 12 photos</td>\n",
       "      <td>$</td>\n",
       "      <td>4.5</td>\n",
       "      <td>[Unclaimed, Delis]</td>\n",
       "      <td>1614 W Walnut St</td>\n",
       "      <td>Milwaukee, WI 53205</td>\n",
       "      <td>(33, 'https://www.yelp.com/biz/deli-1614-milwa...</td>\n",
       "      <td>None</td>\n",
       "      <td>[, For BusinessesWrite a ReviewLog InSign Up, ...</td>\n",
       "    </tr>\n",
       "    <tr>\n",
       "      <th>0</th>\n",
       "      <td>(34, 'Riverfront Pizzeria Bar &amp; Grill')</td>\n",
       "      <td>(34, 'https://www.yelp.com/biz/riverfront-pizz...</td>\n",
       "      <td>None</td>\n",
       "      <td>136 reviews</td>\n",
       "      <td>See 110 photos</td>\n",
       "      <td>$$</td>\n",
       "      <td>3.5</td>\n",
       "      <td>[Pizza, Bars]</td>\n",
       "      <td>509 E Erie St</td>\n",
       "      <td>Milwaukee, WI 53202</td>\n",
       "      <td>(34, 'https://www.yelp.com/biz/riverfront-pizz...</td>\n",
       "      <td>None</td>\n",
       "      <td>[, For BusinessesWrite a ReviewLog InSign Up, ...</td>\n",
       "    </tr>\n",
       "  </tbody>\n",
       "</table>\n",
       "</div>"
      ],
      "text/plain": [
       "                                restaurant  \\\n",
       "0                      (30, 'Skyway Cafe')   \n",
       "0                (31, 'The Green Kitchen')   \n",
       "0           (32, 'Thainamite - Wauwatosa')   \n",
       "0                        (33, 'Deli 1614')   \n",
       "0  (34, 'Riverfront Pizzeria Bar & Grill')   \n",
       "\n",
       "                                                link    claimed  \\\n",
       "0  (30, 'https://www.yelp.com/biz/skyway-cafe-mil...  Unclaimed   \n",
       "0  (31, 'https://www.yelp.com/biz/the-green-kitch...  Unclaimed   \n",
       "0  (32, 'https://www.yelp.com/biz/thainamite-wauw...    Claimed   \n",
       "0  (33, 'https://www.yelp.com/biz/deli-1614-milwa...  Unclaimed   \n",
       "0  (34, 'https://www.yelp.com/biz/riverfront-pizz...       None   \n",
       "\n",
       "  number_of_reviews number_of_photos price rating  \\\n",
       "0        13 reviews    See 23 photos     $   4.5    \n",
       "0       164 reviews    See 77 photos     $     4    \n",
       "0       141 reviews   See 134 photos    $$   3.5    \n",
       "0        17 reviews    See 12 photos     $   4.5    \n",
       "0       136 reviews   See 110 photos    $$   3.5    \n",
       "\n",
       "                            categories                  street  \\\n",
       "0                   [Unclaimed, Cafes]  626 East Wisconsin Ave   \n",
       "0  [Unclaimed, Vegetarian, Sandwiches]          400 N Water St   \n",
       "0    [Thai, Sushi Bars, Cocktail Bars]        8725 W North Ave   \n",
       "0                   [Unclaimed, Delis]        1614 W Walnut St   \n",
       "0                        [Pizza, Bars]           509 E Erie St   \n",
       "\n",
       "               address                                            website  \\\n",
       "0         Ground floor  (30, 'https://www.yelp.com/biz/skyway-cafe-mil...   \n",
       "0  Milwaukee, WI 53202  (31, 'https://www.yelp.com/biz/the-green-kitch...   \n",
       "0  Wauwatosa, WI 53226  (32, 'https://www.yelp.com/biz/thainamite-wauw...   \n",
       "0  Milwaukee, WI 53205  (33, 'https://www.yelp.com/biz/deli-1614-milwa...   \n",
       "0  Milwaukee, WI 53202  (34, 'https://www.yelp.com/biz/riverfront-pizz...   \n",
       "\n",
       "  update                                          amenities  \n",
       "0   None  [, For BusinessesWrite a ReviewLog InSign Up, ...  \n",
       "0   None  [, For BusinessesWrite a ReviewLog InSign Up, ...  \n",
       "0   None  [, For BusinessesWrite a ReviewLog InSign Up, ...  \n",
       "0   None  [, For BusinessesWrite a ReviewLog InSign Up, ...  \n",
       "0   None  [, For BusinessesWrite a ReviewLog InSign Up, ...  "
      ]
     },
     "execution_count": 32,
     "metadata": {},
     "output_type": "execute_result"
    }
   ],
   "source": [
    "df_rest.tail()"
   ]
  },
  {
   "cell_type": "code",
   "execution_count": 34,
   "id": "37d86c37",
   "metadata": {},
   "outputs": [],
   "source": [
    "df10 = df_rest"
   ]
  },
  {
   "cell_type": "code",
   "execution_count": 35,
   "id": "9443b946",
   "metadata": {},
   "outputs": [],
   "source": [
    "df10.to_csv('usable10.csv')"
   ]
  },
  {
   "cell_type": "code",
   "execution_count": 36,
   "id": "bca7d244",
   "metadata": {},
   "outputs": [],
   "source": [
    "df1 = pd.read_csv('usable.csv')\n",
    "df2 = pd.read_csv('usable2.csv')\n",
    "df3 = pd.read_csv('usable3.csv')\n",
    "df4 = pd.read_csv('usable4.csv')\n",
    "df5 = pd.read_csv('usable5.csv')\n",
    "df6 = pd.read_csv('usable6.csv')\n",
    "df7 = pd.read_csv('usable7.csv')\n",
    "df8 = pd.read_csv('usable8.csv')\n",
    "df9 = pd.read_csv('usable9.csv')\n",
    "df10 = pd.read_csv('usable10.csv')"
   ]
  },
  {
   "cell_type": "code",
   "execution_count": 48,
   "id": "18df7828",
   "metadata": {},
   "outputs": [],
   "source": [
    "frames = [df1, df2, df3, df4, df5, df6, df7, df8, df9, df10]\n",
    "dfdf = pd.concat(frames)"
   ]
  },
  {
   "cell_type": "code",
   "execution_count": 49,
   "id": "8dd08e0d",
   "metadata": {},
   "outputs": [
    {
     "data": {
      "text/plain": [
       "297"
      ]
     },
     "execution_count": 49,
     "metadata": {},
     "output_type": "execute_result"
    }
   ],
   "source": [
    "len(dfdf)"
   ]
  },
  {
   "cell_type": "code",
   "execution_count": 50,
   "id": "8b255dfe",
   "metadata": {},
   "outputs": [],
   "source": [
    "dfdf.head()\n",
    "dfdf = dfdf.loc[:, ~dfdf.columns.str.contains('^Unnamed')]\n",
    "dfdf['restaurant'] = dfdf['restaurant'].astype('str') "
   ]
  },
  {
   "cell_type": "code",
   "execution_count": 53,
   "id": "0f982c0b",
   "metadata": {},
   "outputs": [],
   "source": [
    "import regex as re\n",
    "\n",
    "new_restaurants = dfdf.restaurant.to_list()\n",
    "\n",
    "'''stripping anything werid from the search term'''\n",
    "def searchconcat(x):\n",
    "    x = x.replace(',', '')\\\n",
    "    .replace(\"'\",\"\")\\\n",
    "    .replace('(','')\\\n",
    "    .replace(')','')\\\n",
    "    .replace('0', '')\\\n",
    "    .replace('1', '')\\\n",
    "    .replace('2', '')\\\n",
    "    .replace('3', '')\\\n",
    "    .replace('4', '')\\\n",
    "    .replace('5', '')\\\n",
    "    .replace('6', '')\\\n",
    "    .replace('7', '')\\\n",
    "    .replace('8', '')\\\n",
    "    .replace('9', '')\\\n",
    "    .strip()\n",
    "    \n",
    "    return str(x)\n",
    "\n",
    "\n",
    "\n",
    "new_ii = []\n",
    "for i in new_restaurants:\n",
    "    new_i=searchconcat(i)\n",
    "    new_ii.append(new_i)\n",
    "    \n",
    "\n",
    "dfdf['restaurant'] = new_ii"
   ]
  },
  {
   "cell_type": "code",
   "execution_count": 56,
   "id": "7ac149c7",
   "metadata": {},
   "outputs": [],
   "source": [
    "dfdf.drop_duplicates(subset=['restaurant'], keep='last', inplace = True)"
   ]
  },
  {
   "cell_type": "code",
   "execution_count": 62,
   "id": "8e1bb65d",
   "metadata": {},
   "outputs": [
    {
     "data": {
      "text/plain": [
       "253"
      ]
     },
     "execution_count": 62,
     "metadata": {},
     "output_type": "execute_result"
    }
   ],
   "source": [
    "len(dfdf)"
   ]
  },
  {
   "cell_type": "markdown",
   "id": "b12dbe38",
   "metadata": {},
   "source": [
    "### Then here is the final dataframe"
   ]
  },
  {
   "cell_type": "code",
   "execution_count": 63,
   "id": "a2e897f2",
   "metadata": {},
   "outputs": [],
   "source": [
    "dfdf.to_csv('milwaukee.restaurants.yelp.csv')"
   ]
  },
  {
   "cell_type": "code",
   "execution_count": 66,
   "id": "d8a52580",
   "metadata": {},
   "outputs": [
    {
     "data": {
      "text/plain": [
       "253"
      ]
     },
     "execution_count": 66,
     "metadata": {},
     "output_type": "execute_result"
    }
   ],
   "source": [
    "dflist = dfdf.restaurant.to_list()\n",
    "len(set(dflist))"
   ]
  },
  {
   "cell_type": "markdown",
   "id": "31e8af35",
   "metadata": {},
   "source": [
    "### Now on to the individual reviews"
   ]
  },
  {
   "cell_type": "code",
   "execution_count": 252,
   "id": "e351f5e6",
   "metadata": {},
   "outputs": [],
   "source": [
    "df = pd.read_csv('mainlinks.csv')"
   ]
  },
  {
   "cell_type": "code",
   "execution_count": 253,
   "id": "8edf2e14",
   "metadata": {},
   "outputs": [],
   "source": [
    "'''then we complete the links colum for the full URL'''\n",
    "\n",
    "df['Complete_links']= df['link'].apply(lambda x:\"https://www.yelp.com\"+str(x))"
   ]
  },
  {
   "cell_type": "code",
   "execution_count": 254,
   "id": "bbeb311d",
   "metadata": {},
   "outputs": [],
   "source": [
    "Links = df.Complete_links.to_list() #in the formula below Links is equal to Li\n",
    "Restaurants = df.restaurant.to_list() #in the formula below Restaurants is equal to Rest"
   ]
  },
  {
   "cell_type": "code",
   "execution_count": 255,
   "id": "8e893720",
   "metadata": {},
   "outputs": [],
   "source": [
    "restrest = Restaurants[:]\n",
    "linklink = Links[:]"
   ]
  },
  {
   "cell_type": "code",
   "execution_count": 78,
   "id": "07b67901",
   "metadata": {},
   "outputs": [
    {
     "data": {
      "text/plain": [
       "200"
      ]
     },
     "execution_count": 78,
     "metadata": {},
     "output_type": "execute_result"
    }
   ],
   "source": [
    "url_yelp = 'https://www.yelp.com/biz/sweetdiner-milwaukee?osq=Restaurants'\n",
    "html = requests.get(url_yelp)\n",
    "soup2 = BeautifulSoup(html.content, 'lxml')\n",
    "\n",
    "html.status_code"
   ]
  },
  {
   "cell_type": "code",
   "execution_count": 112,
   "id": "5b48b899",
   "metadata": {},
   "outputs": [],
   "source": [
    "import pyautogui"
   ]
  },
  {
   "cell_type": "code",
   "execution_count": 129,
   "id": "1e42f307",
   "metadata": {},
   "outputs": [],
   "source": [
    "df1.to_csv('all_reviews1.csv')"
   ]
  },
  {
   "cell_type": "code",
   "execution_count": 185,
   "id": "f010b539",
   "metadata": {},
   "outputs": [],
   "source": [
    "restrest = df_again.restaurant.to_list()\n",
    "linklink= df_again.Complete_links.to_list()"
   ]
  },
  {
   "cell_type": "code",
   "execution_count": 142,
   "id": "906379ec",
   "metadata": {},
   "outputs": [],
   "source": [
    "df_copy = df1.copy()"
   ]
  },
  {
   "cell_type": "code",
   "execution_count": 258,
   "id": "0b3836ad",
   "metadata": {},
   "outputs": [
    {
     "data": {
      "text/plain": [
       "(240, 240)"
      ]
     },
     "execution_count": 258,
     "metadata": {},
     "output_type": "execute_result"
    }
   ],
   "source": [
    "len(linklink), len(restrest)"
   ]
  },
  {
   "cell_type": "code",
   "execution_count": null,
   "id": "ae057547",
   "metadata": {},
   "outputs": [],
   "source": []
  },
  {
   "cell_type": "code",
   "execution_count": 270,
   "id": "1a96f467",
   "metadata": {},
   "outputs": [],
   "source": [
    "df4.to_csv('reviews_63')"
   ]
  },
  {
   "cell_type": "code",
   "execution_count": 277,
   "id": "6438f075",
   "metadata": {},
   "outputs": [],
   "source": [
    "restrest = Restaurants[64:]\n",
    "linklink = Links[64:]"
   ]
  },
  {
   "cell_type": "code",
   "execution_count": 278,
   "id": "d8c3f52c",
   "metadata": {},
   "outputs": [
    {
     "name": "stdout",
     "output_type": "stream",
     "text": [
      "status passed\n",
      "12 1\n",
      "(0, 'Spicy Tuna')\n",
      "status passed\n",
      "20 1\n",
      "(1, 'Milwaukee Brat House')\n",
      "status passed\n",
      "20 1\n",
      "(2, 'La Casa De Alberto Mexican Food')\n",
      "status passed\n",
      "20 1\n",
      "(3, 'Ono Kine Grindz')\n",
      "status passed\n",
      "20 1\n",
      "(4, 'Engine Company No. 3')\n",
      "status passed\n",
      "2 1\n",
      "(5, 'On The Bayou')\n",
      "status passed\n",
      "1 1\n",
      "(6, 'ARIA')\n",
      "status passed\n",
      "8 1\n",
      "(7, 'Daddys Soul Food Grille')\n",
      "status passed\n",
      "20 1\n",
      "(8, 'La Masa Empanada Bar')\n",
      "status passed\n",
      "5 1\n",
      "(9, 'Eldr+Rime')\n",
      "status passed\n",
      "7 1\n",
      "(10, 'Orenda Cafe')\n",
      "status passed\n",
      "5 1\n",
      "(11, '2Mesa Mexican Eatery')\n",
      "status passed\n",
      "3 1\n",
      "(12, 'Cavas')\n",
      "status passed\n",
      "9 1\n",
      "(13, 'Buckatabon Tavern & Supper Club')\n",
      "status passed\n",
      "1 1\n",
      "(14, 'Honcho Truck MKE')\n",
      "status passed\n",
      "20 1\n",
      "(15, 'Black Sheep')\n",
      "status passed\n",
      "8 1\n",
      "We got blocked inside a subpage https://www.yelp.com/biz/bowls-to-go-milwaukee?osq=Restaurants\n",
      "continue\n",
      "(16, 'Bowls To Go')\n",
      "status passed\n",
      "20 1\n",
      "We got blocked inside a subpage https://www.yelp.com/biz/calderone-club-milwaukee-3?osq=Restaurants\n",
      "continue\n",
      "(17, 'Calderone Club')\n",
      "status passed\n",
      "16 1\n",
      "(18, 'Xankia')\n",
      "status passed\n",
      "20 1\n",
      "(19, 'Sanford Restaurant')\n",
      "status passed\n",
      "4 1\n",
      "(20, 'Paloma Taco And Tequila')\n",
      "status passed\n",
      "20 1\n",
      "(21, 'AJ Bombers')\n",
      "status passed\n",
      "20 1\n",
      "(22, 'Santino’s Little Italy')\n",
      "status passed\n",
      "20 1\n",
      "(23, 'The Vanguard')\n",
      "status passed\n",
      "4 1\n",
      "(24, 'Neighborhood Draft')\n",
      "status passed\n",
      "12 1\n",
      "(25, 'Jackson Grill')\n",
      "status passed\n",
      "2 1\n",
      "(26, 'Aperitivo')\n",
      "status passed\n",
      "7 1\n",
      "(27, 'Maki Yaki Japanese Grill')\n",
      "status passed\n",
      "5 1\n",
      "(28, 'Proof Pizza')\n",
      "status passed\n",
      "3 1\n",
      "(29, 'Tua Pasta')\n",
      "status passed\n",
      "20 1\n",
      "(30, 'Who’s On Third')\n",
      "status passed\n",
      "20 1\n",
      "(31, 'Brunch')\n",
      "status passed\n",
      "19 1\n",
      "We got blocked inside a subpage https://www.yelp.com/biz/twisted-fisherman-crab-shack-milwaukee?osq=Restaurants\n",
      "continue\n",
      "(32, 'Twisted Fisherman Crab Shack')\n",
      "status passed\n",
      "9 1\n",
      "(33, 'Wy’east Pizza')\n",
      "status passed\n",
      "1 1\n",
      "(34, 'Taste Amir’s Roti')\n",
      "status passed\n",
      "20 1\n",
      "(35, 'Sabrosa Cafe & Gallery')\n",
      "status passed\n",
      "20 1\n",
      "(36, 'Kawa Ramen & Sushi')\n",
      "status passed\n",
      "8 1\n",
      "(37, 'Wild Roots')\n",
      "status passed\n",
      "20 1\n",
      "(38, 'Dorsia')\n",
      "status passed\n",
      "20 1\n",
      "(39, 'McBob’s')\n",
      "status passed\n",
      "20 1\n",
      "(40, 'Cosmos Café')\n",
      "status passed\n",
      "20 1\n",
      "(41, 'Elsa’s On the Park')\n",
      "status passed\n",
      "16 1\n",
      "(42, 'Eddie Martini’s')\n",
      "status passed\n",
      "16 1\n",
      "(43, 'Seoul Korean Restaurant')\n",
      "status passed\n",
      "3 1\n",
      "(44, 'Oak & Oyster')\n",
      "status passed\n",
      "8 1\n",
      "We got blocked inside a subpage https://www.yelp.com/biz/sabor-tropical-restaurant-and-lounge-milwaukee?osq=Restaurants\n",
      "continue\n",
      "(45, 'Sabor Tropical Restaurant and Lounge')\n",
      "status passed\n",
      "1 1\n",
      "(46, 'The Social')\n",
      "status passed\n",
      "3 1\n",
      "(47, 'Uncle Bucks on 3rd')\n",
      "status passed\n",
      "20 1\n",
      "(48, 'Balistreri’s Italian American Ristorante')\n",
      "status passed\n",
      "20 1\n",
      "(49, 'Chef Paz Restaurant')\n",
      "status passed\n",
      "15 1\n",
      "(50, 'Easy Tyger')\n",
      "status passed\n",
      "2 1\n",
      "(51, 'Tricklebee Café')\n",
      "status passed\n",
      "6 1\n",
      "(52, 'Meat on the Street')\n",
      "status passed\n",
      "20 1\n",
      "(53, 'Café Hollander Tosa Village')\n",
      "status passed\n",
      "19 1\n",
      "(54, 'Fuel Cafe 5th')\n",
      "status passed\n",
      "17 1\n",
      "(55, 'Three Brothers')\n",
      "status passed\n",
      "20 1\n",
      "(56, 'The Wicked Hop')\n",
      "status passed\n",
      "1 1\n",
      "(57, 'Troop Cafe')\n",
      "status passed\n",
      "10 1\n",
      "(58, 'Vientiane Noodle Shop')\n",
      "status passed\n",
      "20 1\n",
      "(59, 'Goodkind')\n",
      "status passed\n",
      "7 1\n",
      "(60, 'The Broken Yolk')\n",
      "status passed\n",
      "8 1\n",
      "We got blocked inside a subpage https://www.yelp.com/biz/tosa-bowl-and-bun-wauwatosa?osq=Restaurants\n",
      "continue\n",
      "(61, 'Tosa Bowl and Bun')\n",
      "status passed\n",
      "20 1\n",
      "(62, 'Fixture Pizza Pub')\n",
      "status passed\n",
      "2 1\n",
      "(63, 'Two Brothers')\n",
      "status passed\n",
      "20 1\n",
      "(64, 'Merriment Social')\n",
      "status passed\n",
      "1 1\n",
      "(65, '414 Bar + Kitchen')\n",
      "status passed\n",
      "5 1\n",
      "(66, 'Caradaro Club')\n",
      "status passed\n",
      "0 0\n",
      "(67, 'Kin by Rice n Roll')\n",
      "status passed\n",
      "2 1\n",
      "(68, 'Third Street Tavern')\n",
      "status passed\n",
      "1 1\n",
      "(69, 'Restaurant To Be Named Later')\n",
      "status passed\n",
      "20 1\n",
      "(70, 'Cafe Lulu')\n",
      "status passed\n",
      "17 1\n",
      "(71, 'Bacchus - A Bartolotta Restaurant')\n",
      "status passed\n",
      "20 1\n",
      "(72, 'Carson’s Ribs')\n",
      "status passed\n",
      "20 1\n",
      "(73, 'Mason Street Grill')\n",
      "status passed\n",
      "2 1\n",
      "(74, 'Wilma’s Smokehouse')\n",
      "status passed\n",
      "4 1\n",
      "(75, 'Fred’s Frozen Custard & Grill')\n",
      "status passed\n",
      "9 1\n",
      "(76, 'Bottle House 42')\n",
      "status passed\n",
      "4 1\n",
      "(77, 'Mistral')\n",
      "status passed\n",
      "13 1\n",
      "(78, 'Final Approach')\n",
      "status passed\n",
      "20 1\n",
      "We got blocked inside a subpage https://www.yelp.com/biz/br%C3%BCdd-cafe-milwaukee?osq=Restaurants\n",
      "continue\n",
      "(79, 'Brüdd Cafe')\n",
      "status passed\n",
      "8 1\n",
      "(80, 'Uppa Yard')\n",
      "status passed\n",
      "7 1\n",
      "(81, 'Siam Thai')\n",
      "status passed\n",
      "15 1\n",
      "(82, 'Firefly Tosa')\n",
      "status passed\n",
      "5 1\n",
      "(83, 'Heaven’s Table BBQ')\n",
      "status passed\n",
      "10 1\n",
      "(84, 'Lucky Joe’s Tosa')\n",
      "status passed\n",
      "2 1\n",
      "(85, 'El Tlaxcalteca Restaurant')\n",
      "status passed\n",
      "20 1\n",
      "(86, 'The Packing House')\n",
      "status passed\n",
      "20 1\n",
      "(87, 'Rock Bottom Restaurant & Brewery')\n",
      "status passed\n",
      "5 1\n",
      "(88, 'Wonderland Diner')\n",
      "status passed\n",
      "20 1\n",
      "(89, 'Cubanitas')\n",
      "status passed\n",
      "3 1\n",
      "(90, 'Tavolino - Wine, Pasta & Pizza')\n",
      "status passed\n",
      "4 1\n",
      "(91, 'Conway’s Smokin’ Bar & Grill')\n",
      "status passed\n",
      "20 1\n",
      "(92, 'North Avenue Grill')\n",
      "status passed\n",
      "9 1\n",
      "(93, 'Milwaukee Steakhouse')\n",
      "status passed\n",
      "20 1\n",
      "(94, 'Braise')\n",
      "status passed\n",
      "17 1\n",
      "We got blocked inside a subpage https://www.yelp.com/biz/lazy-susan-mke-milwaukee-2?osq=Restaurants\n",
      "continue\n",
      "(95, 'Lazy Susan MKE')\n",
      "status passed\n",
      "20 1\n",
      "(96, 'Old German Beer Hall')\n",
      "status passed\n",
      "18 1\n",
      "(97, 'Artisan Ramen')\n",
      "status passed\n",
      "4 1\n",
      "(98, 'Michael’s Family Restaurant')\n",
      "status passed\n",
      "13 1\n",
      "(99, 'Sobelmans Pub N Grill')\n",
      "status passed\n",
      "1 1\n",
      "(100, 'Blackwood Brothers')\n",
      "status passed\n",
      "3 1\n",
      "(101, 'Dugout 54')\n",
      "status passed\n",
      "3 1\n",
      "(102, 'Pete’s Pub')\n",
      "status passed\n",
      "20 1\n",
      "(103, 'Vagabond')\n",
      "status passed\n",
      "1 1\n",
      "(104, 'Tiki Bar MKE Public Market')\n",
      "status passed\n",
      "1 1\n",
      "(105, 'Festival Foods')\n",
      "status passed\n",
      "4 1\n",
      "(106, 'Egg & Flour Pasta Bar')\n",
      "status passed\n",
      "7 1\n",
      "(107, 'Hamburger Mary’s')\n",
      "status passed\n",
      "1 1\n",
      "(108, 'Lux Domes')\n",
      "status passed\n",
      "3 1\n",
      "(109, 'Ash')\n",
      "status passed\n",
      "16 1\n",
      "(110, 'Ardent')\n",
      "status passed\n",
      "20 1\n",
      "(111, 'Shake Shack')\n",
      "status passed\n",
      "20 1\n",
      "(112, 'Balzac')\n",
      "status passed\n",
      "3 1\n",
      "(113, 'The Fatty Patty')\n",
      "status passed\n",
      "20 1\n",
      "(114, 'Botanas Restaurant')\n",
      "status passed\n",
      "6 1\n",
      "We got blocked inside a subpage https://www.yelp.com/biz/zocalo-milwaukee-2?osq=Restaurants\n",
      "continue\n",
      "(115, 'Zocalo')\n",
      "status passed\n",
      "2 1\n",
      "(116, 'The White House')\n",
      "status passed\n",
      "20 1\n",
      "(117, 'Milwaukee Sail Loft')\n",
      "status passed\n",
      "10 1\n",
      "(118, 'Crawdaddy’s on Greenfield')\n",
      "status passed\n",
      "14 1\n",
      "(119, 'Balistreri’s Bluemound Inn')\n",
      "status passed\n",
      "20 1\n",
      "(120, 'Honeypie Cafe')\n",
      "status passed\n",
      "20 1\n",
      "(121, 'Milwaukee Ale House')\n",
      "status passed\n",
      "8 1\n",
      "(122, 'East Town Kitchen & Bar')\n",
      "status passed\n",
      "12 1\n",
      "(123, 'Wauwatiki Bar & Grill')\n",
      "status passed\n",
      "12 1\n",
      "(124, 'Rare Steakhouse')\n",
      "status passed\n",
      "11 1\n",
      "(125, 'Merge')\n",
      "status passed\n",
      "0 0\n",
      "(126, 'Ristorante Bartolotta dal 1993')\n",
      "status passed\n",
      "7 1\n",
      "(127, 'Highlands Cafe')\n",
      "status passed\n",
      "20 1\n",
      "(128, 'Cranky Al’s')\n",
      "status passed\n",
      "1 1\n",
      "(129, 'Jizzles Sandwich Shop')\n",
      "status passed\n",
      "2 1\n",
      "(130, 'Sorella')\n",
      "status passed\n",
      "16 1\n",
      "(131, 'C-Viche')\n",
      "status passed\n",
      "2 1\n",
      "(132, 'Egg and Flour Pasta Bar')\n",
      "status passed\n",
      "5 1\n",
      "We got blocked inside a subpage https://www.yelp.com/biz/guadalajara-restaurant-milwaukee?osq=Restaurants\n",
      "continue\n",
      "(133, 'Guadalajara Restaurant')\n",
      "status passed\n",
      "2 1\n",
      "(134, 'Jamaican Kitchen & Grill')\n",
      "status passed\n",
      "13 1\n",
      "(135, 'Thai Kitchen')\n",
      "status passed\n",
      "2 1\n",
      "(136, 'Oggie’s')\n",
      "status passed\n",
      "9 1\n",
      "(137, 'Bamboo')\n",
      "status passed\n",
      "2 1\n",
      "(138, 'Flour Girl and Flame')\n",
      "status passed\n",
      "18 1\n",
      "(139, 'Red Light Ramen')\n",
      "status passed\n",
      "2 1\n",
      "(140, 'Charles E Fromage')\n",
      "status passed\n",
      "9 1\n",
      "(141, 'Bodegón')\n",
      "status passed\n",
      "20 1\n",
      "(142, 'Beerline Cafe')\n",
      "status passed\n",
      "6 1\n",
      "(143, 'Coffee Makes You Black')\n",
      "status passed\n",
      "5 1\n",
      "(144, 'J&B’s Blue Ribbon Bar and Grill')\n",
      "status passed\n",
      "20 1\n",
      "(145, 'Barnacle Bud’s')\n",
      "status passed\n",
      "20 1\n",
      "(146, 'Alem Ethiopian Village')\n",
      "status passed\n",
      "1 1\n",
      "(147, 'Riley’s Good Dogs')\n",
      "status passed\n",
      "1 1\n",
      "(148, 'Sticky Rice')\n",
      "status passed\n",
      "20 1\n",
      "(149, 'Stone Bowl Grill')\n",
      "status passed\n",
      "2 1\n",
      "(150, 'La Canoa')\n",
      "status passed\n",
      "3 1\n",
      "(151, 'Richard’s Cafe')\n",
      "status passed\n",
      "5 1\n",
      "(152, 'Allie Boy’s Bagelry & Luncheonette')\n",
      "status passed\n",
      "20 1\n",
      "We got blocked inside a subpage https://www.yelp.com/biz/caf%C3%A9-coraz%C3%B3n-milwaukee-3?osq=Restaurants\n",
      "continue\n",
      "(153, 'Café Corazón')\n",
      "status passed\n",
      "20 1\n",
      "(154, 'The Knick')\n",
      "status passed\n",
      "3 1\n",
      "(155, 'Camino')\n",
      "status passed\n",
      "12 1\n",
      "(156, 'Barbiere’s Italian Inn')\n",
      "status passed\n",
      "1 1\n",
      "(157, 'Badger Burger - Brookfield')\n",
      "status passed\n",
      "20 1\n",
      "(158, 'Saz’s State House')\n",
      "status passed\n",
      "20 1\n",
      "(159, 'West Allis Cheese & Sausage Shoppe')\n",
      "status passed\n",
      "1 1\n",
      "(160, 'Sugar Cube Donuts')\n",
      "status passed\n",
      "2 1\n",
      "(161, 'Skyway Cafe')\n",
      "status passed\n",
      "2 1\n",
      "(162, 'Taco Mikes')\n",
      "status passed\n",
      "2 1\n",
      "(163, 'Coaches')\n",
      "status passed\n",
      "17 1\n",
      "(164, 'The Green Kitchen')\n",
      "status passed\n",
      "3 1\n",
      "(165, 'GYRO MKE')\n",
      "status passed\n",
      "1 1\n",
      "(166, 'La Fondita De Milwaukee')\n",
      "status passed\n",
      "20 1\n",
      "(167, 'Kegel’s Inn')\n",
      "status passed\n",
      "1 1\n",
      "(168, 'Laughing Crab')\n",
      "status passed\n",
      "20 1\n",
      "(169, 'Mader’s')\n",
      "status passed\n",
      "15 1\n",
      "(170, 'Thainamite - Wauwatosa')\n",
      "status passed\n",
      "3 1\n",
      "(171, 'Valley Inn')\n",
      "status passed\n",
      "20 1\n",
      "We got blocked inside a subpage https://www.yelp.com/biz/rice-n-roll-bistro-milwaukee?osq=Restaurants\n",
      "continue\n",
      "(172, 'Rice N Roll Bistro')\n",
      "status passed\n",
      "15 1\n",
      "(173, 'Crave Cafe')\n",
      "status passed\n",
      "2 1\n",
      "(174, 'Deli 1614')\n",
      "status passed\n",
      "14 1\n",
      "(175, 'Riverfront Pizzeria Bar & Grill')\n"
     ]
    }
   ],
   "source": [
    "''' Now we scrape the reviews, this time we do not have to make use of the selenoim package, we onyl work with URLs which should make this process a bit easier'''\n",
    "\n",
    "#we initialize a dataframe, but of course outside the loop\n",
    "df5 = pd.DataFrame([],columns=['Restaurant', 'Review'])\n",
    "\n",
    "enum_extract = enumerate(restrest)\n",
    "\n",
    "\n",
    "failedurls = []\n",
    "\n",
    "def getname():\n",
    "    key = next(enum_extract)\n",
    "    return str(key)\n",
    "\n",
    "\n",
    "for l in linklink:\n",
    "    url_yelp = l\n",
    "    html = requests.get(url_yelp)\n",
    "    \n",
    "    #soup2 is the base website\n",
    "    soup2 = BeautifulSoup(html.content, 'lxml')\n",
    "    restname = getname() \n",
    "    if html.status_code == 200:\n",
    "        print('status passed')\n",
    "        length = ''\n",
    "        length1 = 0\n",
    "        length2 = 0\n",
    "        reviews = []\n",
    "        try: \n",
    "            ## we search for the number of sites to loop through on the base website soup2\n",
    "            length=soup2.select('.css-e81eai')\n",
    "            length = str(length)\n",
    "            #we use a regular expression to filter out the total length of the review\n",
    "            length = re.search('>(\\d+) of (\\d+)<', length)\n",
    "            if length:\n",
    "                length1 = length.group(1)\n",
    "                length2 = int(length.group(2))\n",
    "                \n",
    "            if length2 > 20:\n",
    "                length2 = 20\n",
    "            \n",
    "            print(length2, length1)\n",
    "\n",
    "            \n",
    "            for i in range(0,length2*10,10):\n",
    "                html = requests.get(url_yelp+'&start='+str(i))\n",
    "                \n",
    "                if html.status_code == 200:\n",
    "                    soup3 = BeautifulSoup(html.content, 'lxml')\n",
    "                    soupstring = str(soup3)\n",
    "                    #this is the pattern for all the reviews, it will find all matches so we don't have to worry about not grabbing one. Though we will have to clean this up later\n",
    "                    subsoup = re.findall('\"markupDisplayName\":(.+?),\"voterText\":', soupstring)\n",
    "                    reviews += subsoup\n",
    "                    time.sleep(5)\n",
    "                else:\n",
    "                    print(f'We got blocked inside a subpage {url_yelp}')\n",
    "                    failedurls.append(url_yelp)\n",
    "                    time.sleep(5)\n",
    "                    pyautogui.alert(text='Enter password', title='Enter password', button='OK')\n",
    "                    print('continue')\n",
    "                    time.sleep(6)\n",
    "                    \n",
    "            \n",
    "            #outside of the last loop, we create a df, where we zip the lists, and then we append them to the df\n",
    "            keys = [restname]*int(len(reviews))\n",
    "            review_list = list(zip(keys, reviews))\n",
    "\n",
    "            df2=pd.DataFrame(review_list, columns=['Restaurant','Review'])\n",
    "\n",
    "            frames= [df5, df2]\n",
    "            df5 = pd.concat(frames)\n",
    "            print(restname)\n",
    "            time.sleep(3)  \n",
    "                   \n",
    "        except:\n",
    "            length = ''\n",
    "            length1 = 0\n",
    "            length2 = 0\n",
    "            reviews = []\n",
    "            print(f'No reviews for {restname}')\n",
    "            time.sleep(5)\n",
    "              \n",
    "        #In case we have lots of reviews, we just scrape the first 200\n",
    "         \n",
    "    else:\n",
    "        length = ''\n",
    "        length1 = 0\n",
    "        length2 = 0\n",
    "        reviews = []\n",
    "        print(f'We got blocked for {restname} {url_yelp}')\n",
    "        failedurls.append(url_yelp)\n",
    "        pyautogui.alert(text='Enter password', title='Enter password', button='OK')\n",
    "        print('continue')\n",
    "\n",
    "        time.sleep(6)"
   ]
  },
  {
   "cell_type": "code",
   "execution_count": 279,
   "id": "11cb07e3",
   "metadata": {},
   "outputs": [
    {
     "data": {
      "text/plain": [
       "18596"
      ]
     },
     "execution_count": 279,
     "metadata": {},
     "output_type": "execute_result"
    }
   ],
   "source": [
    "len(df5)"
   ]
  },
  {
   "cell_type": "code",
   "execution_count": null,
   "id": "1a38e6d5",
   "metadata": {},
   "outputs": [],
   "source": []
  },
  {
   "cell_type": "code",
   "execution_count": 198,
   "id": "eed6474d",
   "metadata": {},
   "outputs": [],
   "source": [
    "df1 = pd.read_csv('all_reviews1.csv')\n",
    "df1 = df1.loc[:, ~df1.columns.str.contains('^Unnamed')]"
   ]
  },
  {
   "cell_type": "code",
   "execution_count": null,
   "id": "1d1b6a96",
   "metadata": {},
   "outputs": [],
   "source": []
  },
  {
   "cell_type": "code",
   "execution_count": 280,
   "id": "3ffa90f4",
   "metadata": {},
   "outputs": [],
   "source": [
    "df1 = pd.concat([df4, df5])"
   ]
  },
  {
   "cell_type": "code",
   "execution_count": 281,
   "id": "3ad46556",
   "metadata": {},
   "outputs": [
    {
     "data": {
      "text/plain": [
       "28391"
      ]
     },
     "execution_count": 281,
     "metadata": {},
     "output_type": "execute_result"
    }
   ],
   "source": [
    "len(df1)"
   ]
  },
  {
   "cell_type": "code",
   "execution_count": 282,
   "id": "6c708526",
   "metadata": {},
   "outputs": [],
   "source": [
    "import regex as re\n",
    "\n",
    "new_restaurants = df1.Restaurant.to_list()\n",
    "\n",
    "'''stripping anything werid from the search term'''\n",
    "def searchconcat(x):\n",
    "    x = x.replace(',', '')\\\n",
    "    .replace(\"'\",\"\")\\\n",
    "    .replace('(','')\\\n",
    "    .replace(')','')\\\n",
    "    .replace('0', '')\\\n",
    "    .replace('1', '')\\\n",
    "    .replace('2', '')\\\n",
    "    .replace('3', '')\\\n",
    "    .replace('4', '')\\\n",
    "    .replace('5', '')\\\n",
    "    .replace('6', '')\\\n",
    "    .replace('7', '')\\\n",
    "    .replace('8', '')\\\n",
    "    .replace('9', '')\\\n",
    "    .strip()\n",
    "    \n",
    "    return str(x)\n",
    "\n",
    "\n",
    "\n",
    "new_ii = []\n",
    "for i in new_restaurants:\n",
    "    new_i=searchconcat(i)\n",
    "    new_ii.append(new_i)\n",
    "    \n",
    "\n",
    "df1['Restaurant'] = new_ii"
   ]
  },
  {
   "cell_type": "code",
   "execution_count": 283,
   "id": "84084ee0",
   "metadata": {},
   "outputs": [
    {
     "data": {
      "text/html": [
       "<div>\n",
       "<style scoped>\n",
       "    .dataframe tbody tr th:only-of-type {\n",
       "        vertical-align: middle;\n",
       "    }\n",
       "\n",
       "    .dataframe tbody tr th {\n",
       "        vertical-align: top;\n",
       "    }\n",
       "\n",
       "    .dataframe thead th {\n",
       "        text-align: right;\n",
       "    }\n",
       "</style>\n",
       "<table border=\"1\" class=\"dataframe\">\n",
       "  <thead>\n",
       "    <tr style=\"text-align: right;\">\n",
       "      <th></th>\n",
       "      <th>Restaurant</th>\n",
       "      <th>Review</th>\n",
       "    </tr>\n",
       "  </thead>\n",
       "  <tbody>\n",
       "    <tr>\n",
       "      <th>0</th>\n",
       "      <td>Swingin’ Door Exchange</td>\n",
       "      <td>\"KC and Shelly S.\",\"photoSrc\":\"https://s3-medi...</td>\n",
       "    </tr>\n",
       "    <tr>\n",
       "      <th>1</th>\n",
       "      <td>Swingin’ Door Exchange</td>\n",
       "      <td>\"Hart P.\",\"displayLocation\":\"Gallatin, TN\",\"al...</td>\n",
       "    </tr>\n",
       "    <tr>\n",
       "      <th>2</th>\n",
       "      <td>Swingin’ Door Exchange</td>\n",
       "      <td>\"Warren D.\",\"displayLocation\":\"Milwaukee, WI\",...</td>\n",
       "    </tr>\n",
       "    <tr>\n",
       "      <th>3</th>\n",
       "      <td>Swingin’ Door Exchange</td>\n",
       "      <td>\"Daniela B.\",\"displayLocation\":\"Brookfield, WI...</td>\n",
       "    </tr>\n",
       "    <tr>\n",
       "      <th>4</th>\n",
       "      <td>Swingin’ Door Exchange</td>\n",
       "      <td>\"Ashley B.\",\"displayLocation\":\"Chicago, IL\",\"a...</td>\n",
       "    </tr>\n",
       "  </tbody>\n",
       "</table>\n",
       "</div>"
      ],
      "text/plain": [
       "               Restaurant                                             Review\n",
       "0  Swingin’ Door Exchange  \"KC and Shelly S.\",\"photoSrc\":\"https://s3-medi...\n",
       "1  Swingin’ Door Exchange  \"Hart P.\",\"displayLocation\":\"Gallatin, TN\",\"al...\n",
       "2  Swingin’ Door Exchange  \"Warren D.\",\"displayLocation\":\"Milwaukee, WI\",...\n",
       "3  Swingin’ Door Exchange  \"Daniela B.\",\"displayLocation\":\"Brookfield, WI...\n",
       "4  Swingin’ Door Exchange  \"Ashley B.\",\"displayLocation\":\"Chicago, IL\",\"a..."
      ]
     },
     "execution_count": 283,
     "metadata": {},
     "output_type": "execute_result"
    }
   ],
   "source": [
    "df1.head()"
   ]
  },
  {
   "cell_type": "code",
   "execution_count": 284,
   "id": "b4f8d7dc",
   "metadata": {},
   "outputs": [
    {
     "data": {
      "text/plain": [
       "' Lets cut out the photos already, cause that would be too much to parse'"
      ]
     },
     "execution_count": 284,
     "metadata": {},
     "output_type": "execute_result"
    }
   ],
   "source": [
    "''' Lets cut out the photos already, cause that would be too much to parse'''\n",
    "\n",
    "#df1[df1['Restaurant'] == 'Swingin’ Door Exchange']['Review'].values[8]"
   ]
  },
  {
   "cell_type": "code",
   "execution_count": 285,
   "id": "04387633",
   "metadata": {},
   "outputs": [],
   "source": [
    "df1['username'] = df1['Review'].apply(lambda x: re.findall('\"(.+?)\"', x)[0])"
   ]
  },
  {
   "cell_type": "code",
   "execution_count": 286,
   "id": "54ade5a0",
   "metadata": {},
   "outputs": [],
   "source": [
    "df1['text'] = df1['Review'].apply(lambda x: re.findall('\"comment\":{\"text\":(.+?),\"language\":\"', x)[0])"
   ]
  },
  {
   "cell_type": "code",
   "execution_count": 287,
   "id": "d84a73b4",
   "metadata": {},
   "outputs": [],
   "source": [
    "df1['rating'] = df1['Review'].apply(lambda x: re.findall('\"rating\":(.+?),', x)[0]) #\"photos\""
   ]
  },
  {
   "cell_type": "code",
   "execution_count": 288,
   "id": "e5e29532",
   "metadata": {},
   "outputs": [],
   "source": [
    "df1['userfeedback'] = df1['Review'].apply(lambda x: re.findall('\"feedback\":{\"counts\":{(.+?)},', x)[0])\n",
    "\n",
    "df1['userfeedback_useful'] = df1['userfeedback'].apply(lambda x: re.findall('\"useful\":(.+?),', x)[0])\n",
    "df1['userfeedback_funny'] = df1['userfeedback'].apply(lambda x: re.findall('\"funny\":(.+?),', x)[0])\n",
    "df1['userfeedback_cool'] = df1['userfeedback'].apply(lambda x: re.findall('\"cool\":(.+?)', x)[0])"
   ]
  },
  {
   "cell_type": "code",
   "execution_count": 289,
   "id": "ff9a20d4",
   "metadata": {},
   "outputs": [],
   "source": [
    "df1['reviewtotalPhotos'] = df1['Review'].apply(lambda x: re.findall('\"totalPhotos\":(.+?),', x)[0])"
   ]
  },
  {
   "cell_type": "code",
   "execution_count": 290,
   "id": "8089c8ca",
   "metadata": {},
   "outputs": [],
   "source": [
    "df1['peerfeedback'] = df1['Review'].apply(lambda x: re.findall('\"userFeedback\":{(.+?)}', x)[0])\n",
    "\n",
    "\n",
    "df1['peerfeedback_useful'] = df1['peerfeedback'].apply(lambda x: re.findall('\"useful\":(.+?),', x)[0])\n",
    "df1['peerfeedback_funny'] = df1['peerfeedback'].apply(lambda x: re.findall('\"funny\":(.+?),', x)[0])\n",
    "df1['peerfeedback_cool'] = df1['peerfeedback'].apply(lambda x: re.findall('\"cool\":(.+?)', x)[0])"
   ]
  },
  {
   "cell_type": "code",
   "execution_count": 291,
   "id": "dec6cf8a",
   "metadata": {},
   "outputs": [],
   "source": [
    "df1['language'] = df1['Review'].apply(lambda x: re.findall('\"language\":\"(.+?)\"}', x)[0])"
   ]
  },
  {
   "cell_type": "code",
   "execution_count": 292,
   "id": "e5bad66a",
   "metadata": {},
   "outputs": [],
   "source": [
    "df1['Date'] = df1['Review'].apply(lambda x: re.findall('\"localizedDate\":\"(.+?)\",\"', x)[0])"
   ]
  },
  {
   "cell_type": "code",
   "execution_count": 293,
   "id": "535e14f5",
   "metadata": {},
   "outputs": [],
   "source": [
    "df1['userlocation'] = df1['Review'].apply(lambda x: re.findall('\"displayLocation\":\"(.+?)\"', x)[0])"
   ]
  },
  {
   "cell_type": "code",
   "execution_count": 294,
   "id": "8904aeb5",
   "metadata": {},
   "outputs": [],
   "source": [
    "df1['friendCount'] = df1['Review'].apply(lambda x: re.findall('\"friendCount\":(.+?),', x)[0])"
   ]
  },
  {
   "cell_type": "code",
   "execution_count": 295,
   "id": "afbf0b2c",
   "metadata": {},
   "outputs": [],
   "source": [
    "df1['photoCount'] = df1['Review'].apply(lambda x: re.findall('\"photoCount\":(.+?),', x)[0])"
   ]
  },
  {
   "cell_type": "code",
   "execution_count": 296,
   "id": "cddaa080",
   "metadata": {},
   "outputs": [],
   "source": [
    "df1['reviewCount'] = df1['Review'].apply(lambda x: re.findall('\"reviewCount\":(.+?),', x)[0])"
   ]
  },
  {
   "cell_type": "code",
   "execution_count": 297,
   "id": "28a717ee",
   "metadata": {},
   "outputs": [],
   "source": [
    "df1['eliteYear'] = df1['Review'].apply(lambda x: re.findall('\"eliteYear\":(.+?)},', x)[0])"
   ]
  },
  {
   "cell_type": "code",
   "execution_count": 298,
   "id": "1423d136",
   "metadata": {},
   "outputs": [],
   "source": [
    "def elite(x):\n",
    "    x=re.findall('\"isCurrentlyElite\":(.+?),', x)\n",
    "    try:\n",
    "        if x[0]:\n",
    "            return x[0]\n",
    "    except:\n",
    "        x ='false'\n",
    "        return x"
   ]
  },
  {
   "cell_type": "code",
   "execution_count": 299,
   "id": "f10e6d7e",
   "metadata": {},
   "outputs": [],
   "source": [
    "df1['isCurrentlyElite'] = df1['Review'].apply(lambda x: elite(x))"
   ]
  },
  {
   "cell_type": "code",
   "execution_count": null,
   "id": "98e48f94",
   "metadata": {},
   "outputs": [],
   "source": []
  },
  {
   "cell_type": "code",
   "execution_count": 300,
   "id": "fc51612f",
   "metadata": {},
   "outputs": [
    {
     "data": {
      "text/plain": [
       "28391"
      ]
     },
     "execution_count": 300,
     "metadata": {},
     "output_type": "execute_result"
    }
   ],
   "source": [
    "len(df1)"
   ]
  },
  {
   "cell_type": "code",
   "execution_count": 26,
   "id": "a2c15617",
   "metadata": {},
   "outputs": [],
   "source": [
    "dfx =df1[(df1['rating'] == '1') | (df1['rating'] == '2')] \n",
    "dfy = df1[(df1['rating'] == '3') | (df1['rating'] == '4')] \n",
    "dfz = df1[(df1['rating'] == '5') | (df1['rating'] == '6')]\n",
    "\n",
    "frames = [dfx, dfy, dfz]"
   ]
  },
  {
   "cell_type": "code",
   "execution_count": 27,
   "id": "8f78e71d",
   "metadata": {},
   "outputs": [],
   "source": [
    "df1 = pd.concat(frames)"
   ]
  },
  {
   "cell_type": "code",
   "execution_count": 61,
   "id": "e0006908",
   "metadata": {},
   "outputs": [
    {
     "data": {
      "text/plain": [
       "12392"
      ]
     },
     "execution_count": 61,
     "metadata": {},
     "output_type": "execute_result"
    }
   ],
   "source": [
    "len(df1)"
   ]
  },
  {
   "cell_type": "code",
   "execution_count": 222,
   "id": "39467735",
   "metadata": {},
   "outputs": [],
   "source": [
    "df1['rating'] = df1['rating'].astype('float') "
   ]
  },
  {
   "cell_type": "code",
   "execution_count": 223,
   "id": "f8e2b448",
   "metadata": {},
   "outputs": [],
   "source": [
    "df_unclened = df1[['Restaurant', 'username', 'Review']]"
   ]
  },
  {
   "cell_type": "code",
   "execution_count": 224,
   "id": "0b85af60",
   "metadata": {},
   "outputs": [],
   "source": [
    "df_unclened.to_csv('df_uncleaned_reviews.csv')"
   ]
  },
  {
   "cell_type": "code",
   "execution_count": 301,
   "id": "8e2620ed",
   "metadata": {},
   "outputs": [
    {
     "data": {
      "text/plain": [
       "0      \"useful\":false,\"funny\":false,\"cool\":false\n",
       "1      \"useful\":false,\"funny\":false,\"cool\":false\n",
       "2      \"useful\":false,\"funny\":false,\"cool\":false\n",
       "3      \"useful\":false,\"funny\":false,\"cool\":false\n",
       "4      \"useful\":false,\"funny\":false,\"cool\":false\n",
       "                         ...                    \n",
       "134    \"useful\":false,\"funny\":false,\"cool\":false\n",
       "135    \"useful\":false,\"funny\":false,\"cool\":false\n",
       "136    \"useful\":false,\"funny\":false,\"cool\":false\n",
       "137    \"useful\":false,\"funny\":false,\"cool\":false\n",
       "138    \"useful\":false,\"funny\":false,\"cool\":false\n",
       "Name: peerfeedback, Length: 28391, dtype: object"
      ]
     },
     "execution_count": 301,
     "metadata": {},
     "output_type": "execute_result"
    }
   ],
   "source": [
    "df1.pop('Review')\n",
    "df1.pop('userfeedback')\n",
    "df1.pop('peerfeedback')"
   ]
  },
  {
   "cell_type": "code",
   "execution_count": 226,
   "id": "34228421",
   "metadata": {},
   "outputs": [
    {
     "data": {
      "text/plain": [
       "221"
      ]
     },
     "execution_count": 226,
     "metadata": {},
     "output_type": "execute_result"
    }
   ],
   "source": [
    "df1.Restaurant.nunique()"
   ]
  },
  {
   "cell_type": "code",
   "execution_count": 65,
   "id": "9e8aff07",
   "metadata": {},
   "outputs": [
    {
     "data": {
      "text/plain": [
       "'/Users/julia/Downloads'"
      ]
     },
     "execution_count": 65,
     "metadata": {},
     "output_type": "execute_result"
    }
   ],
   "source": [
    "pwd()"
   ]
  },
  {
   "cell_type": "code",
   "execution_count": 302,
   "id": "0a360405",
   "metadata": {},
   "outputs": [],
   "source": [
    "df1.to_excel(r'/Users/julia/Downloads/all_reviews2.xlsx', index = False)"
   ]
  },
  {
   "cell_type": "code",
   "execution_count": 303,
   "id": "6c2346cc",
   "metadata": {},
   "outputs": [],
   "source": [
    "df1.to_csv('all_reviews2.csv')"
   ]
  },
  {
   "cell_type": "code",
   "execution_count": 308,
   "id": "8c8e20e0",
   "metadata": {},
   "outputs": [],
   "source": [
    "df = pd.read_csv('mainlinks.csv')"
   ]
  },
  {
   "cell_type": "code",
   "execution_count": 309,
   "id": "0dfd3916",
   "metadata": {},
   "outputs": [],
   "source": [
    "df1 = pd.read_csv('all_reviews2.csv')"
   ]
  },
  {
   "cell_type": "code",
   "execution_count": 310,
   "id": "0e99f7f1",
   "metadata": {},
   "outputs": [
    {
     "data": {
      "text/plain": [
       "236"
      ]
     },
     "execution_count": 310,
     "metadata": {},
     "output_type": "execute_result"
    }
   ],
   "source": [
    "df1.Restaurant.nunique()"
   ]
  },
  {
   "cell_type": "code",
   "execution_count": 311,
   "id": "4c8c6c92",
   "metadata": {},
   "outputs": [
    {
     "data": {
      "text/plain": [
       "238"
      ]
     },
     "execution_count": 311,
     "metadata": {},
     "output_type": "execute_result"
    }
   ],
   "source": [
    "df.restaurant.nunique()"
   ]
  },
  {
   "cell_type": "code",
   "execution_count": 314,
   "id": "372cbfc4",
   "metadata": {},
   "outputs": [
    {
     "data": {
      "text/plain": [
       "array(['Engine Company No.', 'Mesa Mexican Eatery', 'Uncle Bucks on rd',\n",
       "       'Fuel Cafe th', 'Bar + Kitchen', 'Bottle House',\n",
       "       'Tavolino - Wine Pasta & Pizza', 'Dugout', 'Deli'], dtype=object)"
      ]
     },
     "execution_count": 314,
     "metadata": {},
     "output_type": "execute_result"
    }
   ],
   "source": [
    "''' Now we need to comapre the difference'''\n",
    "\n",
    "old_rest = df.restaurant.unique()\n",
    "\n",
    "new_rest = df1.Restaurant.unique()\n",
    "\n",
    "\n",
    "df_new = df1[~df1['Restaurant'].isin(old_rest)]\n",
    "\n",
    "df_new.Restaurant.unique()"
   ]
  },
  {
   "cell_type": "code",
   "execution_count": null,
   "id": "293d1f13",
   "metadata": {},
   "outputs": [],
   "source": []
  },
  {
   "cell_type": "code",
   "execution_count": 1,
   "id": "31aad219",
   "metadata": {},
   "outputs": [],
   "source": []
  },
  {
   "cell_type": "code",
   "execution_count": null,
   "id": "1b09eb62",
   "metadata": {},
   "outputs": [],
   "source": []
  },
  {
   "cell_type": "code",
   "execution_count": null,
   "id": "c86cb3da",
   "metadata": {},
   "outputs": [],
   "source": []
  },
  {
   "cell_type": "code",
   "execution_count": null,
   "id": "6c2cff69",
   "metadata": {},
   "outputs": [],
   "source": []
  },
  {
   "cell_type": "code",
   "execution_count": null,
   "id": "a849db17",
   "metadata": {},
   "outputs": [],
   "source": []
  }
 ],
 "metadata": {
  "kernelspec": {
   "display_name": "Python 3",
   "language": "python",
   "name": "python3"
  },
  "language_info": {
   "codemirror_mode": {
    "name": "ipython",
    "version": 3
   },
   "file_extension": ".py",
   "mimetype": "text/x-python",
   "name": "python",
   "nbconvert_exporter": "python",
   "pygments_lexer": "ipython3",
   "version": "3.7.9"
  }
 },
 "nbformat": 4,
 "nbformat_minor": 5
}
