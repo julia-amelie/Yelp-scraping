{
 "cells": [
  {
   "cell_type": "code",
   "execution_count": 1,
   "id": "54be27f9",
   "metadata": {},
   "outputs": [],
   "source": [
    "#! pip install beautifulsoup4, requests\n",
    "# !pip install selenium\n",
    "import requests\n",
    "from bs4 import BeautifulSoup\n",
    "import pandas as pd\n",
    "from selenium import webdriver\n",
    "from time import sleep\n",
    "from selenium import webdriver\n",
    "from bs4 import BeautifulSoup\n",
    "import re\n",
    "import numpy as np\n",
    "import json\n",
    "from selenium.webdriver.support.ui import WebDriverWait\n",
    "from selenium.webdriver.support import expected_conditions as EC\n",
    "from selenium.webdriver.common.by import By\n",
    "from selenium.webdriver.support import ui\n",
    "import os\n",
    "import sys\n",
    "os.path.dirname(sys.executable)\n",
    "from selenium.common.exceptions import NoSuchElementException\n",
    "from selenium.webdriver.common.keys import Keys\n",
    "import time"
   ]
  },
  {
   "cell_type": "code",
   "execution_count": 16,
   "id": "0acd8900",
   "metadata": {},
   "outputs": [
    {
     "data": {
      "text/plain": [
       "b'<!DOCTYPE html><html lang=\"en-US\" prefix=\"og: http://ogp.me/ns#\" style=\"margin: 0;padding: 0; border: 0; font-size: 100%; font: inherit; vertical-align: baseline;\"><head><script>document.documentElement.className=document.documentElement.className.replace(/\\x08no-js\\x08/,\"js\");</script><meta http-equiv=\"Content-Type\" content=\"text/html; charset=UTF-8\" /><meta http-equiv=\"Content-Language\" content=\"en-US\" /><meta name=\"viewport\" content=\"width=device-width, initial-scale=1, shrink-to-fit=no\"><link rel='"
      ]
     },
     "execution_count": 16,
     "metadata": {},
     "output_type": "execute_result"
    }
   ],
   "source": [
    "url = \"https://www.yelp.com/search?find_desc=Restaurants&find_loc=Milwaukee%2C%20WI\"\n",
    "html = requests.get(url)\n",
    "html.content[0:500]"
   ]
  },
  {
   "cell_type": "code",
   "execution_count": 17,
   "id": "ec90eb2e",
   "metadata": {},
   "outputs": [],
   "source": [
    "# Making the soup\n",
    "from bs4 import BeautifulSoup\n",
    "soup = BeautifulSoup(html.content, 'lxml')"
   ]
  },
  {
   "cell_type": "code",
   "execution_count": 29,
   "id": "7d9c54a9",
   "metadata": {},
   "outputs": [],
   "source": [
    "#soup.head()"
   ]
  },
  {
   "cell_type": "code",
   "execution_count": 26,
   "id": "d8366544",
   "metadata": {},
   "outputs": [
    {
     "name": "stdout",
     "output_type": "stream",
     "text": [
      "[<a class=\"css-166la90\" href=\"/biz/swingin-door-exchange-milwaukee?osq=Restaurants\" name=\"Swingin’ Door Exchange\" rel=\"\" target=\"\">Swingin’ Door Exchange</a>, <a class=\"css-166la90\" href=\"/biz/story-hill-bkc-milwaukee?osq=Restaurants\" name=\"Story Hill BKC\" rel=\"\" target=\"\">Story Hill BKC</a>, <a class=\"css-166la90\" href=\"/biz/maxies-milwaukee?osq=Restaurants\" name=\"Maxie’s\" rel=\"\" target=\"\">Maxie’s</a>, <a class=\"css-166la90\" href=\"/biz/triciclo-peru-milwaukee?osq=Restaurants\" name=\"Triciclo Peru\" rel=\"\" target=\"\">Triciclo Peru</a>, <a class=\"css-166la90\" href=\"/biz/tusk-milwaukee-2?osq=Restaurants\" name=\"Tusk\" rel=\"\" target=\"\">Tusk</a>, <a class=\"css-166la90\" href=\"/biz/view-mke-milwaukee?osq=Restaurants\" name=\"View MKE\" rel=\"\" target=\"\">View MKE</a>, <a class=\"css-166la90\" href=\"/biz/mad-rooster-cafe-west-milwaukee?osq=Restaurants\" name=\"Mad Rooster Cafe\" rel=\"\" target=\"\">Mad Rooster Cafe</a>, <a class=\"css-166la90\" href=\"/biz/st-paul-fish-company-milwaukee?osq=Restaurants\" name=\"St Paul Fish Company\" rel=\"\" target=\"\">St Paul Fish Company</a>, <a class=\"css-166la90\" href=\"/biz/five-o-clock-steakhouse-milwaukee-2?osq=Restaurants\" name=\"Five O’Clock Steakhouse\" rel=\"\" target=\"\">Five O’Clock Steakhouse</a>, <a class=\"css-166la90\" href=\"/biz/odd-duck-milwaukee?osq=Restaurants\" name=\"Odd Duck\" rel=\"\" target=\"\">Odd Duck</a>]\n",
      "['Swingin’ Door Exchange', 'Story Hill BKC', 'Maxie’s', 'Triciclo Peru', 'Tusk']\n"
     ]
    }
   ],
   "source": [
    "# Identifying the restaurant links\n",
    "links = soup.select(\".css-166la90\")\n",
    "print(links[0:10])\n",
    "\n",
    "# Getting the restaurant names and the restaurant links in solation\n",
    "name_restaurant = []\n",
    "link_restaurant = []\n",
    "\n",
    "for link in links:\n",
    "    name_restaurant.append(link.string)\n",
    "    link_restaurant.append(link['href'])\n",
    "    \n",
    "print(name_restaurant[0:5])"
   ]
  },
  {
   "cell_type": "code",
   "execution_count": null,
   "id": "7d1138d5",
   "metadata": {},
   "outputs": [],
   "source": [
    "# Getting everything also for multiple pages (here, for page 2, 3, 4, 5, and 6)\n",
    "url_yelp = \"https://www.yelp.com/search?find_desc=Restaurants&find_loc=Milwaukee%2C%20WI&start=\"\n",
    "\n",
    "for i in range(0,240,10):\n",
    "    \n",
    "    html = requests.get(url_yelp+str(i))\n",
    "    \n",
    "    soup = BeautifulSoup(html.content, 'lxml')\n",
    "    link = soup.select(\".css-166la90\")\n",
    "   \n",
    "    for link in links:\n",
    "        name_restaurant.append(link.string)\n",
    "        link_restaurant.append(link.get('href'))\n",
    "\n",
    "# Making sure we have everything\n",
    "print(name_restaurant)  \n",
    "print(link_restaurant)"
   ]
  },
  {
   "cell_type": "code",
   "execution_count": 50,
   "id": "30ed5f40",
   "metadata": {},
   "outputs": [
    {
     "data": {
      "text/plain": [
       "418"
      ]
     },
     "execution_count": 50,
     "metadata": {},
     "output_type": "execute_result"
    }
   ],
   "source": [
    "#let's zip the lists up to be abele to convert them into a dataframe\n",
    "data_tuples = list(zip(name_restaurant,link_restaurant))\n",
    "len(data_tuples)"
   ]
  },
  {
   "cell_type": "code",
   "execution_count": 51,
   "id": "7b9a88e8",
   "metadata": {},
   "outputs": [],
   "source": [
    "#creating a dataframe with two columns, this one will later be enriched by all the data we scrape\n",
    "df = pd.DataFrame(data_tuples, columns=['Restaurant', 'Links'])"
   ]
  },
  {
   "cell_type": "code",
   "execution_count": 52,
   "id": "2ebae65d",
   "metadata": {},
   "outputs": [
    {
     "data": {
      "text/html": [
       "<div>\n",
       "<style scoped>\n",
       "    .dataframe tbody tr th:only-of-type {\n",
       "        vertical-align: middle;\n",
       "    }\n",
       "\n",
       "    .dataframe tbody tr th {\n",
       "        vertical-align: top;\n",
       "    }\n",
       "\n",
       "    .dataframe thead th {\n",
       "        text-align: right;\n",
       "    }\n",
       "</style>\n",
       "<table border=\"1\" class=\"dataframe\">\n",
       "  <thead>\n",
       "    <tr style=\"text-align: right;\">\n",
       "      <th></th>\n",
       "      <th>Restaurant</th>\n",
       "      <th>Links</th>\n",
       "    </tr>\n",
       "  </thead>\n",
       "  <tbody>\n",
       "    <tr>\n",
       "      <th>408</th>\n",
       "      <td>El Beso Milwaukee - Mexican Restaurante &amp; Cantina</td>\n",
       "      <td>/biz/el-beso-milwaukee-mexican-restaurante-and...</td>\n",
       "    </tr>\n",
       "    <tr>\n",
       "      <th>409</th>\n",
       "      <td>None</td>\n",
       "      <td>https://www.yelp.com/search?find_desc=Restaura...</td>\n",
       "    </tr>\n",
       "    <tr>\n",
       "      <th>410</th>\n",
       "      <td>16</td>\n",
       "      <td>https://www.yelp.com/search?find_desc=Restaura...</td>\n",
       "    </tr>\n",
       "    <tr>\n",
       "      <th>411</th>\n",
       "      <td>17</td>\n",
       "      <td>https://www.yelp.com/search?find_desc=Restaura...</td>\n",
       "    </tr>\n",
       "    <tr>\n",
       "      <th>412</th>\n",
       "      <td>18</td>\n",
       "      <td>https://www.yelp.com/search?find_desc=Restaura...</td>\n",
       "    </tr>\n",
       "    <tr>\n",
       "      <th>413</th>\n",
       "      <td>19</td>\n",
       "      <td>https://www.yelp.com/search?find_desc=Restaura...</td>\n",
       "    </tr>\n",
       "    <tr>\n",
       "      <th>414</th>\n",
       "      <td>20</td>\n",
       "      <td>https://www.yelp.com/search?find_desc=Restaura...</td>\n",
       "    </tr>\n",
       "    <tr>\n",
       "      <th>415</th>\n",
       "      <td>21</td>\n",
       "      <td>https://www.yelp.com/search?find_desc=Restaura...</td>\n",
       "    </tr>\n",
       "    <tr>\n",
       "      <th>416</th>\n",
       "      <td>22</td>\n",
       "      <td>https://www.yelp.com/search?find_desc=Restaura...</td>\n",
       "    </tr>\n",
       "    <tr>\n",
       "      <th>417</th>\n",
       "      <td>23</td>\n",
       "      <td>https://www.yelp.com/search?find_desc=Restaura...</td>\n",
       "    </tr>\n",
       "  </tbody>\n",
       "</table>\n",
       "</div>"
      ],
      "text/plain": [
       "                                            Restaurant  \\\n",
       "408  El Beso Milwaukee - Mexican Restaurante & Cantina   \n",
       "409                                               None   \n",
       "410                                                 16   \n",
       "411                                                 17   \n",
       "412                                                 18   \n",
       "413                                                 19   \n",
       "414                                                 20   \n",
       "415                                                 21   \n",
       "416                                                 22   \n",
       "417                                                 23   \n",
       "\n",
       "                                                 Links  \n",
       "408  /biz/el-beso-milwaukee-mexican-restaurante-and...  \n",
       "409  https://www.yelp.com/search?find_desc=Restaura...  \n",
       "410  https://www.yelp.com/search?find_desc=Restaura...  \n",
       "411  https://www.yelp.com/search?find_desc=Restaura...  \n",
       "412  https://www.yelp.com/search?find_desc=Restaura...  \n",
       "413  https://www.yelp.com/search?find_desc=Restaura...  \n",
       "414  https://www.yelp.com/search?find_desc=Restaura...  \n",
       "415  https://www.yelp.com/search?find_desc=Restaura...  \n",
       "416  https://www.yelp.com/search?find_desc=Restaura...  \n",
       "417  https://www.yelp.com/search?find_desc=Restaura...  "
      ]
     },
     "execution_count": 52,
     "metadata": {},
     "output_type": "execute_result"
    }
   ],
   "source": [
    "# inpsecting the dataframe, we can see that beautiful soup has extracted some incorrect numbers we don't need, and we still need to clean up the links\n",
    "df.tail(10)"
   ]
  },
  {
   "cell_type": "code",
   "execution_count": 46,
   "id": "20696e01",
   "metadata": {},
   "outputs": [],
   "source": [
    "#let's us regex to clean the df\n",
    "import re"
   ]
  },
  {
   "cell_type": "code",
   "execution_count": 53,
   "id": "bb2e6a9e",
   "metadata": {},
   "outputs": [],
   "source": [
    "#we convert everyting to strings, and then exclude those rows where the column Links contains a https\n",
    "df['Restaurant'] = df.Restaurant.astype('str') \n",
    "df['Links'] = df.Links.astype('str') \n",
    "\n",
    "df=df[~df.Links.str.contains(\"https:\")]"
   ]
  },
  {
   "cell_type": "code",
   "execution_count": 54,
   "id": "9d50d549",
   "metadata": {},
   "outputs": [],
   "source": [
    "#then we complete the links colum for the full URL\n",
    "df['Complete_links']= df['Links'].apply(lambda x:\"https://www.yelp.com\"+str(x))"
   ]
  },
  {
   "cell_type": "code",
   "execution_count": 57,
   "id": "1b95de72",
   "metadata": {},
   "outputs": [
    {
     "data": {
      "text/plain": [
       "0      /biz/swingin-door-exchange-milwaukee?osq=Resta...\n",
       "1          /biz/story-hill-bkc-milwaukee?osq=Restaurants\n",
       "2                  /biz/maxies-milwaukee?osq=Restaurants\n",
       "3           /biz/triciclo-peru-milwaukee?osq=Restaurants\n",
       "4                  /biz/tusk-milwaukee-2?osq=Restaurants\n",
       "                             ...                        \n",
       "404    /biz/la-fondita-de-milwaukee-milwaukee?osq=Res...\n",
       "405    /biz/taqueria-buenavista-milwaukee?osq=Restaur...\n",
       "406    /biz/michaels-family-restaurant-milwaukee-2?os...\n",
       "407             /biz/triskeles-milwaukee?osq=Restaurants\n",
       "408    /biz/el-beso-milwaukee-mexican-restaurante-and...\n",
       "Name: Links, Length: 210, dtype: object"
      ]
     },
     "execution_count": 57,
     "metadata": {},
     "output_type": "execute_result"
    }
   ],
   "source": [
    "df.pop('Links')"
   ]
  },
  {
   "cell_type": "code",
   "execution_count": 55,
   "id": "716dc3fa",
   "metadata": {},
   "outputs": [
    {
     "data": {
      "text/plain": [
       "210"
      ]
     },
     "execution_count": 55,
     "metadata": {},
     "output_type": "execute_result"
    }
   ],
   "source": [
    "len(df) "
   ]
  },
  {
   "cell_type": "code",
   "execution_count": 58,
   "id": "66ad71a8",
   "metadata": {},
   "outputs": [
    {
     "data": {
      "text/html": [
       "<div>\n",
       "<style scoped>\n",
       "    .dataframe tbody tr th:only-of-type {\n",
       "        vertical-align: middle;\n",
       "    }\n",
       "\n",
       "    .dataframe tbody tr th {\n",
       "        vertical-align: top;\n",
       "    }\n",
       "\n",
       "    .dataframe thead th {\n",
       "        text-align: right;\n",
       "    }\n",
       "</style>\n",
       "<table border=\"1\" class=\"dataframe\">\n",
       "  <thead>\n",
       "    <tr style=\"text-align: right;\">\n",
       "      <th></th>\n",
       "      <th>Restaurant</th>\n",
       "      <th>Complete_links</th>\n",
       "    </tr>\n",
       "  </thead>\n",
       "  <tbody>\n",
       "    <tr>\n",
       "      <th>399</th>\n",
       "      <td>Stone Bowl Grill</td>\n",
       "      <td>https://www.yelp.com/biz/stone-bowl-grill-milw...</td>\n",
       "    </tr>\n",
       "    <tr>\n",
       "      <th>400</th>\n",
       "      <td>Dugout 54</td>\n",
       "      <td>https://www.yelp.com/biz/dugout-54-milwaukee?o...</td>\n",
       "    </tr>\n",
       "    <tr>\n",
       "      <th>401</th>\n",
       "      <td>Flour Girl and Flame</td>\n",
       "      <td>https://www.yelp.com/biz/flour-girl-and-flame-...</td>\n",
       "    </tr>\n",
       "    <tr>\n",
       "      <th>402</th>\n",
       "      <td>Snifters Tapas &amp; Spirits</td>\n",
       "      <td>https://www.yelp.com/biz/snifters-tapas-and-sp...</td>\n",
       "    </tr>\n",
       "    <tr>\n",
       "      <th>403</th>\n",
       "      <td>Bartolotta’s Lake Park Bistro</td>\n",
       "      <td>https://www.yelp.com/biz/bartolottas-lake-park...</td>\n",
       "    </tr>\n",
       "    <tr>\n",
       "      <th>404</th>\n",
       "      <td>La Fondita De Milwaukee</td>\n",
       "      <td>https://www.yelp.com/biz/la-fondita-de-milwauk...</td>\n",
       "    </tr>\n",
       "    <tr>\n",
       "      <th>405</th>\n",
       "      <td>Taqueria Buenavista</td>\n",
       "      <td>https://www.yelp.com/biz/taqueria-buenavista-m...</td>\n",
       "    </tr>\n",
       "    <tr>\n",
       "      <th>406</th>\n",
       "      <td>Michael’s Family Restaurant</td>\n",
       "      <td>https://www.yelp.com/biz/michaels-family-resta...</td>\n",
       "    </tr>\n",
       "    <tr>\n",
       "      <th>407</th>\n",
       "      <td>Triskele’s</td>\n",
       "      <td>https://www.yelp.com/biz/triskeles-milwaukee?o...</td>\n",
       "    </tr>\n",
       "    <tr>\n",
       "      <th>408</th>\n",
       "      <td>El Beso Milwaukee - Mexican Restaurante &amp; Cantina</td>\n",
       "      <td>https://www.yelp.com/biz/el-beso-milwaukee-mex...</td>\n",
       "    </tr>\n",
       "  </tbody>\n",
       "</table>\n",
       "</div>"
      ],
      "text/plain": [
       "                                            Restaurant  \\\n",
       "399                                   Stone Bowl Grill   \n",
       "400                                          Dugout 54   \n",
       "401                               Flour Girl and Flame   \n",
       "402                           Snifters Tapas & Spirits   \n",
       "403                      Bartolotta’s Lake Park Bistro   \n",
       "404                            La Fondita De Milwaukee   \n",
       "405                                Taqueria Buenavista   \n",
       "406                        Michael’s Family Restaurant   \n",
       "407                                         Triskele’s   \n",
       "408  El Beso Milwaukee - Mexican Restaurante & Cantina   \n",
       "\n",
       "                                        Complete_links  \n",
       "399  https://www.yelp.com/biz/stone-bowl-grill-milw...  \n",
       "400  https://www.yelp.com/biz/dugout-54-milwaukee?o...  \n",
       "401  https://www.yelp.com/biz/flour-girl-and-flame-...  \n",
       "402  https://www.yelp.com/biz/snifters-tapas-and-sp...  \n",
       "403  https://www.yelp.com/biz/bartolottas-lake-park...  \n",
       "404  https://www.yelp.com/biz/la-fondita-de-milwauk...  \n",
       "405  https://www.yelp.com/biz/taqueria-buenavista-m...  \n",
       "406  https://www.yelp.com/biz/michaels-family-resta...  \n",
       "407  https://www.yelp.com/biz/triskeles-milwaukee?o...  \n",
       "408  https://www.yelp.com/biz/el-beso-milwaukee-mex...  "
      ]
     },
     "execution_count": 58,
     "metadata": {},
     "output_type": "execute_result"
    }
   ],
   "source": [
    "df.tail(10)"
   ]
  },
  {
   "cell_type": "code",
   "execution_count": 70,
   "id": "221310bb",
   "metadata": {},
   "outputs": [
    {
     "data": {
      "text/plain": [
       "Restaurant\n",
       "Egg & Flour Pasta Bar     2\n",
       "Camino                    2\n",
       "2Mesa Mexican Eatery      1\n",
       "Shake Shack               1\n",
       "Riley’s Sandwich Co       1\n",
       "                         ..\n",
       "Goodkind                  1\n",
       "Guadalajara Restaurant    1\n",
       "Hamburger Mary’s          1\n",
       "Harbor House              1\n",
       "Zarletti                  1\n",
       "Length: 208, dtype: int64"
      ]
     },
     "execution_count": 70,
     "metadata": {},
     "output_type": "execute_result"
    }
   ],
   "source": [
    "# we see that there are two duplicate restaurants, which we can drop subsequnetly\n",
    "df.groupby(['Restaurant']).size().sort_values(ascending=False)"
   ]
  },
  {
   "cell_type": "code",
   "execution_count": 76,
   "id": "58c28c03",
   "metadata": {},
   "outputs": [],
   "source": [
    "df.drop_duplicates(keep='first', inplace=True)"
   ]
  },
  {
   "cell_type": "code",
   "execution_count": 78,
   "id": "9814f6b0",
   "metadata": {},
   "outputs": [],
   "source": [
    "df.to_csv('links.csv',index=False,header=True,encoding='utf8')"
   ]
  },
  {
   "cell_type": "markdown",
   "id": "ac78fd3a",
   "metadata": {},
   "source": [
    "### Next, we scrape all the details about the restaurants with a web driver and the selenium package"
   ]
  },
  {
   "cell_type": "code",
   "execution_count": 2,
   "id": "b7e0a7d8",
   "metadata": {},
   "outputs": [],
   "source": [
    "df = pd.read_csv('links.csv')"
   ]
  },
  {
   "cell_type": "code",
   "execution_count": 3,
   "id": "86be7579",
   "metadata": {},
   "outputs": [
    {
     "data": {
      "text/html": [
       "<div>\n",
       "<style scoped>\n",
       "    .dataframe tbody tr th:only-of-type {\n",
       "        vertical-align: middle;\n",
       "    }\n",
       "\n",
       "    .dataframe tbody tr th {\n",
       "        vertical-align: top;\n",
       "    }\n",
       "\n",
       "    .dataframe thead th {\n",
       "        text-align: right;\n",
       "    }\n",
       "</style>\n",
       "<table border=\"1\" class=\"dataframe\">\n",
       "  <thead>\n",
       "    <tr style=\"text-align: right;\">\n",
       "      <th></th>\n",
       "      <th>Restaurant</th>\n",
       "      <th>Complete_links</th>\n",
       "    </tr>\n",
       "  </thead>\n",
       "  <tbody>\n",
       "    <tr>\n",
       "      <th>0</th>\n",
       "      <td>Swingin’ Door Exchange</td>\n",
       "      <td>https://www.yelp.com/biz/swingin-door-exchange...</td>\n",
       "    </tr>\n",
       "    <tr>\n",
       "      <th>1</th>\n",
       "      <td>Story Hill BKC</td>\n",
       "      <td>https://www.yelp.com/biz/story-hill-bkc-milwau...</td>\n",
       "    </tr>\n",
       "    <tr>\n",
       "      <th>2</th>\n",
       "      <td>Maxie’s</td>\n",
       "      <td>https://www.yelp.com/biz/maxies-milwaukee?osq=...</td>\n",
       "    </tr>\n",
       "    <tr>\n",
       "      <th>3</th>\n",
       "      <td>Triciclo Peru</td>\n",
       "      <td>https://www.yelp.com/biz/triciclo-peru-milwauk...</td>\n",
       "    </tr>\n",
       "    <tr>\n",
       "      <th>4</th>\n",
       "      <td>Tusk</td>\n",
       "      <td>https://www.yelp.com/biz/tusk-milwaukee-2?osq=...</td>\n",
       "    </tr>\n",
       "  </tbody>\n",
       "</table>\n",
       "</div>"
      ],
      "text/plain": [
       "               Restaurant                                     Complete_links\n",
       "0  Swingin’ Door Exchange  https://www.yelp.com/biz/swingin-door-exchange...\n",
       "1          Story Hill BKC  https://www.yelp.com/biz/story-hill-bkc-milwau...\n",
       "2                 Maxie’s  https://www.yelp.com/biz/maxies-milwaukee?osq=...\n",
       "3           Triciclo Peru  https://www.yelp.com/biz/triciclo-peru-milwauk...\n",
       "4                    Tusk  https://www.yelp.com/biz/tusk-milwaukee-2?osq=..."
      ]
     },
     "execution_count": 3,
     "metadata": {},
     "output_type": "execute_result"
    }
   ],
   "source": [
    "df.head()"
   ]
  },
  {
   "cell_type": "code",
   "execution_count": 4,
   "id": "aad6dd3e",
   "metadata": {},
   "outputs": [],
   "source": [
    "'''options to avoide that actual windows are opened every time. create headless driver options'''\n",
    "options = webdriver.FirefoxOptions()\n",
    "\n",
    "#these options are set so that a browser doesn't actually open everytime we scrape\n",
    "options.add_argument('--ignore-certificate-errors')\n",
    "options.add_argument('--incognito')\n",
    "options.add_argument('--headless')"
   ]
  },
  {
   "cell_type": "code",
   "execution_count": 5,
   "id": "fc113013",
   "metadata": {},
   "outputs": [],
   "source": [
    "Links = df.Complete_links.to_list()\n",
    "Restaurants = df.Restaurant.to_list()"
   ]
  },
  {
   "cell_type": "code",
   "execution_count": 764,
   "id": "fb59acff",
   "metadata": {},
   "outputs": [],
   "source": [
    "# we make a little test run with just one restaurant\n",
    "l=Links[1:4]\n",
    "r = Restaurants[1:4]"
   ]
  },
  {
   "cell_type": "code",
   "execution_count": 765,
   "id": "75eaa3c5",
   "metadata": {},
   "outputs": [
    {
     "name": "stdout",
     "output_type": "stream",
     "text": [
      "['https://www.yelp.com/biz/story-hill-bkc-milwaukee?osq=Restaurants', 'https://www.yelp.com/biz/maxies-milwaukee?osq=Restaurants', 'https://www.yelp.com/biz/triciclo-peru-milwaukee?osq=Restaurants'] ['Story Hill BKC', 'Maxie’s', 'Triciclo Peru']\n"
     ]
    }
   ],
   "source": [
    "print(l,r)"
   ]
  },
  {
   "cell_type": "code",
   "execution_count": 52,
   "id": "1d8ab4f8",
   "metadata": {},
   "outputs": [],
   "source": [
    "'''Selenium search automation can either fetch the search item from the list or text can be entered'''\n",
    "def searchrestaurant(Links, Restaurants):\n",
    "    for i in Links:\n",
    "        for j in Restaurants:\n",
    "            #startdriver\n",
    "            #time.sleep(5)\n",
    "            #driver = webdriver.Firefox(options=options) #options=options\n",
    "            html = requests.get(i)\n",
    "            \n",
    "        \n",
    "            soup = BeautifulSoup(html.content, 'lxml')\n",
    "            description = soup.select(\".css-gdi06s\")\n",
    "            numberofreviews = soup.select(\".css-bq71j2\") \n",
    "            photos = soup.select(\".css-ardur\")\n",
    "            rating = soup.select(\".i-stars__373c0__1T6rz i-stars--large-4-half__373c0__2lYkD border-color--default__373c0__30oMI overflow--hidden__373c0__2B0kz\")\n",
    "            \n",
    "        return description, numberofreviews, photos, rating\n",
    "    \n",
    "\n",
    "        ##we should have lists with the name, and then a list for each colum we would like to extract"
   ]
  },
  {
   "cell_type": "code",
   "execution_count": 363,
   "id": "f75990c1",
   "metadata": {},
   "outputs": [
    {
     "data": {
      "text/plain": [
       "['Story Hill BKC', 'Maxie’s', 'Triciclo Peru']"
      ]
     },
     "execution_count": 363,
     "metadata": {},
     "output_type": "execute_result"
    }
   ],
   "source": [
    "soup.find_all(class_ = ' margin-b2__373c0__abANL border-color--default__373c0__2oFDT')[1].findChildren(class_ = ' css-1h1j0y3')"
   ]
  },
  {
   "cell_type": "code",
   "execution_count": null,
   "id": "e61c9c07",
   "metadata": {},
   "outputs": [],
   "source": [
    "'''Selenium search automation can either fetch the search item from the list or text can be entered'''\n",
    "\n",
    "df_rest = pd.DataFrame([],columns=['restaurant', 'claimed', 'number_of_reviews', 'number_of_photos', 'price', 'rating', 'categories', 'street', 'address', 'website', 'update', 'amenities'])\n",
    "\n",
    "\n",
    "#This is so we can enumerate over the restaurant names\n",
    "enum_extract = enumerate(Restaurants)\n",
    "\n",
    "def getname():\n",
    "    key = next(enum_extract)\n",
    "    return str(key)\n",
    "\n",
    "\n",
    "for i in Links:\n",
    "    restaurant_update = []\n",
    "    restaurant_description = []\n",
    "    restaurant_numberofreviews = []        \n",
    "    restaurant_photos = []\n",
    "    restaurant_rating = []\n",
    "    restaurant_street = []\n",
    "    restaurant_adress = []\n",
    "\n",
    "    restaurant_link = []\n",
    "    restaurant_price = []\n",
    "    restaurant_categories = []\n",
    "    restaurant_name = [] \n",
    "\n",
    "    restaurant_claimed = [] \n",
    "    restaurant_amenities = []\n",
    "\n",
    "    #so here we append the restaurant name\n",
    "    restname = getname()\n",
    "    restaurant_name.append(restname)  \n",
    "    \n",
    "    try:\n",
    "            #Here we initialize a headless driver\n",
    "        time.sleep(3)\n",
    "        driver = webdriver.Firefox(options=options) #options=options \n",
    "        driver.get(i)\n",
    "\n",
    "        driver.maximize_window()\n",
    "        time.sleep(3)\n",
    "\n",
    "        #we first need to get rid of the privacy concern button so we click it\n",
    "        driver.find_element_by_css_selector('.onetrust-lg').click()\n",
    "\n",
    "        #then we wait until that click is processed, before we click the button where all the amenties are extended\n",
    "        time.sleep(3)\n",
    "        driver.find_element_by_css_selector(' section.margin-t4__373c0__1TRkQ:nth-child(6) > div:nth-child(2) > button:nth-child(2)').click()\n",
    "\n",
    "        source = driver.page_source\n",
    "        soup1 = BeautifulSoup(source, 'html.parser')\n",
    "\n",
    "\n",
    "        #now we loop over the elements in the class\n",
    "        subsoup = soup1.find_all(class_ = 'arrange-unit__373c0__1piwO border-color--default__373c0__2oFDT')\n",
    "        amenities = []\n",
    "        for k in range(len(subsoup)):\n",
    "            subamenities=subsoup[k].get_text()\n",
    "            amenities.append(subamenities)\n",
    "\n",
    "        restaurant_amenities.append(amenities) \n",
    "\n",
    "\n",
    "        #number of reviews\n",
    "        numberofreviews = soup1.select(\".css-bq71j2\") \n",
    "        restaurant_numberofreviews.append(numberofreviews[0].string)\n",
    "\n",
    "        #number of photos\n",
    "        photos = soup1.select(\".css-ardur\")\n",
    "        restaurant_photos.append(photos[4].string) \n",
    "\n",
    "        #first and second address line\n",
    "        location = soup1.select(\".raw__373c0__3rcx7\")\n",
    "        restaurant_street.append(location[0].string) \n",
    "        restaurant_adress.append(location[1].string)\n",
    "\n",
    "            #rating\n",
    "        for item in soup1.select('[class*=container]'):\n",
    "            if item.find('h4'):\n",
    "                name = item.find('h4').get_text()\n",
    "                ratings=soup1.select('[aria-label*=rating]')[0]\n",
    "                rating=str(ratings)\n",
    "                rating = re.search('aria-label=\"(.+?)star rating\"', rating)\n",
    "                if rating:\n",
    "                    rating = rating.group(1)\n",
    "\n",
    "        restaurant_rating.append(rating)\n",
    "\n",
    "        #price\n",
    "        price = soup1.select(\".css-1xxismk\")\n",
    "        price=str(price)\n",
    "        price = re.search('\"css-1xxismk\">(.+?)<', price)\n",
    "        if price:\n",
    "            price = price.group(1)\n",
    "            restaurant_price.append(price) \n",
    "\n",
    "        #categories\n",
    "        #this list needs to be inside the loop\n",
    "        categories = []\n",
    "\n",
    "        for item in soup1.select('[class*=container]'):\n",
    "            if item.find('h1'):\n",
    "                items=item.select('.css-166la90')\n",
    "                for i in items:\n",
    "                    categories.append(i.string)\n",
    "\n",
    "                restaurant_categories.append(categories)\n",
    "\n",
    "        if 'Unclaimed' not in categories:\n",
    "\n",
    "            #updates\n",
    "            update=soup1.select('.css-gdi06s')\n",
    "            restaurant_update.append(update[0].string)             \n",
    "\n",
    "\n",
    "            #homepage link\n",
    "            link = soup1.select(\".css-ac8spe\")\n",
    "            restaurant_link.append(link[6].string)\n",
    "\n",
    "\n",
    "            restaurant_claimed.append('Claimed')\n",
    "\n",
    "        else: \n",
    "            restaurant_update.append('None')\n",
    "            restaurant_link.append('None')\n",
    "            restaurant_claimed.append('Unclaimed')\n",
    "\n",
    "            driver.quit()\n",
    "\n",
    "\n",
    "    except: \n",
    "        restaurant_claimed.append('None')\n",
    "        restaurant_update.append('None')\n",
    "        restaurant_numberofreviews.append('None')\n",
    "        restaurant_photos.append('None')\n",
    "        restaurant_rating.append('None')\n",
    "        restaurant_street.append('None')\n",
    "        restaurant_adress.append('None')\n",
    "        restaurant_link.append('None')\n",
    "        restaurant_price.append('None')\n",
    "        restaurant_categories.append('None')\n",
    "        restaurant_amenities.append('None')\n",
    "            \n",
    "    finally:\n",
    "        if len(restaurant_claimed) == 0:\n",
    "            restaurant_claimed.append('None')\n",
    "                \n",
    "        if len(restaurant_update) == 0:\n",
    "            restaurant_update.append('None')\n",
    "                \n",
    "        if len(restaurant_numberofreviews) == 0:\n",
    "            restaurant_numberofreviews.append('None')\n",
    "                \n",
    "        if len(restaurant_photos) == 0:\n",
    "            restaurant_photos.append('None')\n",
    "                \n",
    "        if len(restaurant_rating) == 0:\n",
    "            restaurant_rating.append('None')\n",
    "                \n",
    "        if len(restaurant_street) == 0:\n",
    "            restaurant_street.append('None')\n",
    "                \n",
    "        if len(restaurant_adress) == 0:\n",
    "            restaurant_adress.append('None')\n",
    "                \n",
    "        if len(restaurant_link) == 0:\n",
    "            restaurant_link.append('None')\n",
    "                \n",
    "        if len(restaurant_price) == 0:\n",
    "            restaurant_price.append('None')\n",
    "                \n",
    "        if len(restaurant_categories) == 0:\n",
    "            restaurant_categories.append('None')\n",
    "                \n",
    "        if len(restaurant_amenities) == 0:\n",
    "            restaurant_amenities.append('None')\n",
    "                \n",
    "        entry_list = list(zip(restaurant_name, restaurant_claimed, restaurant_numberofreviews, restaurant_photos, restaurant_price, restaurant_rating, restaurant_categories, restaurant_street, restaurant_adress, restaurant_link,restaurant_update, restaurant_amenities))\n",
    "\n",
    "            \n",
    "        df_entry = pd.DataFrame(entry_list,columns=['restaurant', 'claimed', 'number_of_reviews', 'number_of_photos', 'price', 'rating', 'categories', 'street', 'address', 'website', 'update', 'amenities'])\n",
    "            \n",
    "        frames = [df_rest, df_entry]\n",
    "        df_rest = pd.concat(frames)       "
   ]
  },
  {
   "cell_type": "code",
   "execution_count": 15,
   "id": "2969951c",
   "metadata": {},
   "outputs": [
    {
     "data": {
      "text/html": [
       "<div>\n",
       "<style scoped>\n",
       "    .dataframe tbody tr th:only-of-type {\n",
       "        vertical-align: middle;\n",
       "    }\n",
       "\n",
       "    .dataframe tbody tr th {\n",
       "        vertical-align: top;\n",
       "    }\n",
       "\n",
       "    .dataframe thead th {\n",
       "        text-align: right;\n",
       "    }\n",
       "</style>\n",
       "<table border=\"1\" class=\"dataframe\">\n",
       "  <thead>\n",
       "    <tr style=\"text-align: right;\">\n",
       "      <th></th>\n",
       "      <th>restaurant</th>\n",
       "      <th>claimed</th>\n",
       "      <th>number_of_reviews</th>\n",
       "      <th>number_of_photos</th>\n",
       "      <th>price</th>\n",
       "      <th>rating</th>\n",
       "      <th>categories</th>\n",
       "      <th>street</th>\n",
       "      <th>address</th>\n",
       "      <th>website</th>\n",
       "      <th>update</th>\n",
       "      <th>amenities</th>\n",
       "    </tr>\n",
       "  </thead>\n",
       "  <tbody>\n",
       "    <tr>\n",
       "      <th>0</th>\n",
       "      <td>(0, 'Triciclo Peru')</td>\n",
       "      <td>Unclaimed</td>\n",
       "      <td>39 reviews</td>\n",
       "      <td>See 64 photos</td>\n",
       "      <td>$</td>\n",
       "      <td>4.5</td>\n",
       "      <td>[Unclaimed, Breweries, Beer Bar, Beer Gardens]</td>\n",
       "      <td>1024 S 5th St</td>\n",
       "      <td>Milwaukee, WI 53204</td>\n",
       "      <td>None</td>\n",
       "      <td>None</td>\n",
       "      <td>[, For BusinessesWrite a ReviewLog InSign Up, ...</td>\n",
       "    </tr>\n",
       "    <tr>\n",
       "      <th>0</th>\n",
       "      <td>(1, 'Tusk')</td>\n",
       "      <td>Claimed</td>\n",
       "      <td>67 reviews</td>\n",
       "      <td>See 125 photos</td>\n",
       "      <td>None</td>\n",
       "      <td>4.5</td>\n",
       "      <td>[Peruvian]</td>\n",
       "      <td>3801 W Vliet St</td>\n",
       "      <td>Milwaukee, WI 53208</td>\n",
       "      <td>tricicloperumke.com</td>\n",
       "      <td>None</td>\n",
       "      <td>[, For BusinessesWrite a ReviewLog InSign Up, ...</td>\n",
       "    </tr>\n",
       "    <tr>\n",
       "      <th>0</th>\n",
       "      <td>(2, 'View MKE')</td>\n",
       "      <td>Claimed</td>\n",
       "      <td>57 reviews</td>\n",
       "      <td>See 120 photos</td>\n",
       "      <td>$$</td>\n",
       "      <td>4.5</td>\n",
       "      <td>[American (New), Bars]</td>\n",
       "      <td>5513 W North Ave</td>\n",
       "      <td>Milwaukee, WI 53208</td>\n",
       "      <td>tuskmilwaukee.com</td>\n",
       "      <td>None</td>\n",
       "      <td>[, For BusinessesWrite a ReviewLog InSign Up, ...</td>\n",
       "    </tr>\n",
       "    <tr>\n",
       "      <th>0</th>\n",
       "      <td>(3, 'Mad Rooster Cafe')</td>\n",
       "      <td>None</td>\n",
       "      <td>None</td>\n",
       "      <td>None</td>\n",
       "      <td>None</td>\n",
       "      <td>None</td>\n",
       "      <td>None</td>\n",
       "      <td>None</td>\n",
       "      <td>None</td>\n",
       "      <td>None</td>\n",
       "      <td>None</td>\n",
       "      <td>None</td>\n",
       "    </tr>\n",
       "  </tbody>\n",
       "</table>\n",
       "</div>"
      ],
      "text/plain": [
       "                restaurant    claimed number_of_reviews number_of_photos  \\\n",
       "0     (0, 'Triciclo Peru')  Unclaimed        39 reviews    See 64 photos   \n",
       "0              (1, 'Tusk')    Claimed        67 reviews   See 125 photos   \n",
       "0          (2, 'View MKE')    Claimed        57 reviews   See 120 photos   \n",
       "0  (3, 'Mad Rooster Cafe')       None              None             None   \n",
       "\n",
       "  price rating                                      categories  \\\n",
       "0     $   4.5   [Unclaimed, Breweries, Beer Bar, Beer Gardens]   \n",
       "0  None   4.5                                       [Peruvian]   \n",
       "0    $$   4.5                           [American (New), Bars]   \n",
       "0  None   None                                            None   \n",
       "\n",
       "             street              address              website update  \\\n",
       "0     1024 S 5th St  Milwaukee, WI 53204                 None   None   \n",
       "0   3801 W Vliet St  Milwaukee, WI 53208  tricicloperumke.com   None   \n",
       "0  5513 W North Ave  Milwaukee, WI 53208    tuskmilwaukee.com   None   \n",
       "0              None                 None                 None   None   \n",
       "\n",
       "                                           amenities  \n",
       "0  [, For BusinessesWrite a ReviewLog InSign Up, ...  \n",
       "0  [, For BusinessesWrite a ReviewLog InSign Up, ...  \n",
       "0  [, For BusinessesWrite a ReviewLog InSign Up, ...  \n",
       "0                                               None  "
      ]
     },
     "execution_count": 15,
     "metadata": {},
     "output_type": "execute_result"
    }
   ],
   "source": [
    "df_rest"
   ]
  },
  {
   "cell_type": "code",
   "execution_count": 12,
   "id": "72e76e5a",
   "metadata": {},
   "outputs": [],
   "source": [
    "R = Restaurants[3:7]\n",
    "z = Links[3:6]\n",
    "L = ['https://www.yelp.com/biz/urban-harvest-brewing-company-milwaukee'] + z"
   ]
  },
  {
   "cell_type": "code",
   "execution_count": 13,
   "id": "6708f296",
   "metadata": {},
   "outputs": [
    {
     "data": {
      "text/plain": [
       "(['Triciclo Peru', 'Tusk', 'View MKE', 'Mad Rooster Cafe'],\n",
       " ['https://www.yelp.com/biz/urban-harvest-brewing-company-milwaukee',\n",
       "  'https://www.yelp.com/biz/triciclo-peru-milwaukee?osq=Restaurants',\n",
       "  'https://www.yelp.com/biz/tusk-milwaukee-2?osq=Restaurants',\n",
       "  'https://www.yelp.com/biz/view-mke-milwaukee?osq=Restaurants'])"
      ]
     },
     "execution_count": 13,
     "metadata": {},
     "output_type": "execute_result"
    }
   ],
   "source": [
    "R, L"
   ]
  },
  {
   "cell_type": "code",
   "execution_count": 811,
   "id": "ef6654f0",
   "metadata": {},
   "outputs": [],
   "source": [
    "name = []"
   ]
  },
  {
   "cell_type": "code",
   "execution_count": 812,
   "id": "517ee4c2",
   "metadata": {},
   "outputs": [],
   "source": [
    "for r in R:\n",
    "    name.append(r)"
   ]
  },
  {
   "cell_type": "code",
   "execution_count": 813,
   "id": "d4a7b43d",
   "metadata": {},
   "outputs": [
    {
     "data": {
      "text/plain": [
       "['Triciclo Peru', 'Tusk', 'View MKE', 'Mad Rooster Cafe']"
      ]
     },
     "execution_count": 813,
     "metadata": {},
     "output_type": "execute_result"
    }
   ],
   "source": [
    "name"
   ]
  },
  {
   "cell_type": "code",
   "execution_count": 786,
   "id": "13985e8a",
   "metadata": {},
   "outputs": [],
   "source": [
    "description=soup2.select('.css-gdi06s')"
   ]
  },
  {
   "cell_type": "code",
   "execution_count": 787,
   "id": "4ab276ac",
   "metadata": {},
   "outputs": [
    {
     "data": {
      "text/plain": [
       "['\"The same Movida food you love, same great cocktails, with all the sangria you can enjoy. This is Movida at Hotel Madrid.\\n\\nMovida, translated meaning \"the movement\", is a Spanish tapas restaurant located in Milwaukee, Wisconsin. Beyond the food, Movida features a recognize…\"']"
      ]
     },
     "execution_count": 787,
     "metadata": {},
     "output_type": "execute_result"
    }
   ],
   "source": [
    "restaurant_description = []\n",
    "restaurant_description.append(description[0].string)\n",
    "restaurant_description"
   ]
  },
  {
   "cell_type": "code",
   "execution_count": 794,
   "id": "aa2c601d",
   "metadata": {},
   "outputs": [],
   "source": [
    "restaurant_numberofreviews.append('none')"
   ]
  },
  {
   "cell_type": "code",
   "execution_count": 795,
   "id": "0b055dc5",
   "metadata": {},
   "outputs": [
    {
     "data": {
      "text/plain": [
       "['39 reviews', 'none']"
      ]
     },
     "execution_count": 795,
     "metadata": {},
     "output_type": "execute_result"
    }
   ],
   "source": [
    "restaurant_numberofreviews"
   ]
  },
  {
   "cell_type": "code",
   "execution_count": 780,
   "id": "9cf6b523",
   "metadata": {},
   "outputs": [
    {
     "data": {
      "text/plain": [
       "['39 reviews']"
      ]
     },
     "execution_count": 780,
     "metadata": {},
     "output_type": "execute_result"
    }
   ],
   "source": [
    "restaurant_numberofreviews=[]\n",
    "numberofreviews = soup8.select(\".css-bq71j2\") \n",
    "restaurant_numberofreviews.append(numberofreviews[0].string)\n",
    "restaurant_numberofreviews\n"
   ]
  },
  {
   "cell_type": "code",
   "execution_count": 781,
   "id": "778265b9",
   "metadata": {},
   "outputs": [
    {
     "data": {
      "text/plain": [
       "['See 64 photos']"
      ]
     },
     "execution_count": 781,
     "metadata": {},
     "output_type": "execute_result"
    }
   ],
   "source": [
    "restaurant_photos = []\n",
    "photos = soup8.select(\".css-ardur\")\n",
    "restaurant_photos.append(photos[4].string) \n",
    "restaurant_photos"
   ]
  },
  {
   "cell_type": "code",
   "execution_count": 782,
   "id": "6c6c3ba7",
   "metadata": {},
   "outputs": [
    {
     "data": {
      "text/plain": [
       "(['1024 S 5th St'], ['Milwaukee, WI 53204'])"
      ]
     },
     "execution_count": 782,
     "metadata": {},
     "output_type": "execute_result"
    }
   ],
   "source": [
    "restaurant_street = []\n",
    "restaurant_adress = []\n",
    "location = soup8.select(\".raw__373c0__3rcx7\")\n",
    "restaurant_street.append(location[0].string) \n",
    "restaurant_adress.append(location[1].string)\n",
    "restaurant_street, restaurant_adress"
   ]
  },
  {
   "cell_type": "code",
   "execution_count": 808,
   "id": "65bfcdc0",
   "metadata": {},
   "outputs": [
    {
     "data": {
      "text/plain": [
       "'$$'"
      ]
     },
     "execution_count": 808,
     "metadata": {},
     "output_type": "execute_result"
    }
   ],
   "source": [
    "restaurant_price = []\n",
    "price = soup2.select(\".css-1xxismk\")\n",
    "price=str(price)\n",
    "price = re.search('\"css-1xxismk\">(.+?)<', price)\n",
    "if price:\n",
    "    price = price.group(1)\n",
    "    \n",
    "price"
   ]
  },
  {
   "cell_type": "code",
   "execution_count": 806,
   "id": "92ded848",
   "metadata": {},
   "outputs": [
    {
     "data": {
      "text/plain": [
       "<re.Match object; span=(13, 30), match='\"css-1xxismk\">$$<'>"
      ]
     },
     "execution_count": 806,
     "metadata": {},
     "output_type": "execute_result"
    }
   ],
   "source": [
    "price = re.search('\"css-1xxismk\">(.+?)<', price)\n",
    "price"
   ]
  },
  {
   "cell_type": "code",
   "execution_count": 789,
   "id": "d836b7a7",
   "metadata": {},
   "outputs": [
    {
     "data": {
      "text/plain": [
       "['read more']"
      ]
     },
     "execution_count": 789,
     "metadata": {},
     "output_type": "execute_result"
    }
   ],
   "source": [
    "restaurant_link = []\n",
    "link = soup2.select(\".css-ac8spe\")\n",
    "restaurant_link.append(link[6].string)\n",
    "restaurant_link"
   ]
  },
  {
   "cell_type": "code",
   "execution_count": 790,
   "id": "16e87426",
   "metadata": {},
   "outputs": [],
   "source": [
    "restaurant_rating = []\n",
    "for item in soup8.select('[class*=container]'):\n",
    "    if item.find('h4'):\n",
    "        name = item.find('h4').get_text()\n",
    "        ratings=soup1.select('[aria-label*=rating]')[0]\n",
    "        rating=str(ratings)\n",
    "        rating = re.search('aria-label=\"(.+?)star rating\"', rating)\n",
    "        rating\n",
    "        if rating:\n",
    "            rating = rating.group(1)\n",
    "            \n",
    "restaurant_rating.append(rating)"
   ]
  },
  {
   "cell_type": "code",
   "execution_count": 791,
   "id": "2dbb08a3",
   "metadata": {},
   "outputs": [
    {
     "data": {
      "text/plain": [
       "['4.5 ']"
      ]
     },
     "execution_count": 791,
     "metadata": {},
     "output_type": "execute_result"
    }
   ],
   "source": [
    "restaurant_rating"
   ]
  },
  {
   "cell_type": "code",
   "execution_count": 792,
   "id": "9330a479",
   "metadata": {},
   "outputs": [],
   "source": [
    "restaurant_categories = []\n",
    "\n",
    "#this needs to be inside the loop\n",
    "categories = []\n",
    "\n",
    "for item in soup8.select('[class*=container]'):\n",
    "    if item.find('h1'):\n",
    "        items=item.select('.css-166la90')\n",
    "        for i in items:\n",
    "            categories.append(i.string)\n",
    "            \n",
    "        restaurant_categories.append(categories)\n"
   ]
  },
  {
   "cell_type": "code",
   "execution_count": 793,
   "id": "6990f2c1",
   "metadata": {},
   "outputs": [
    {
     "data": {
      "text/plain": [
       "[['Unclaimed', 'Breweries', 'Beer Bar', 'Beer Gardens']]"
      ]
     },
     "execution_count": 793,
     "metadata": {},
     "output_type": "execute_result"
    }
   ],
   "source": [
    "restaurant_categories"
   ]
  },
  {
   "cell_type": "code",
   "execution_count": 774,
   "id": "72f06d10",
   "metadata": {},
   "outputs": [
    {
     "data": {
      "text/plain": [
       "[<span class=\"claim-text--light__373c0__1ip1u css-1xxismk\"><a class=\"css-166la90\" href=\"https://biz.yelp.com/signup/coQ9MF9jDBxAbE0Ugq1RKw/account?utm_campaign=claim_business&amp;utm_medium=www&amp;utm_source=biz_page_unclaimed&amp;utm_content=claim_status_link_react&amp;hl=en_US\" name=\"\" rel=\"\" target=\"_blank\">Unclaimed</a> <span aria-hidden=\"true\" class=\"icon--16-exclamation-v2 css-13zy15n\"><svg class=\"icon_svg\" height=\"16\" width=\"16\"><path d=\"M8 1a7 7 0 110 14A7 7 0 018 1zm0 2a5 5 0 100 10A5 5 0 008 3zm0 6.854a1 1 0 011 1.006 1 1 0 01-1 1v-.01a1 1 0 01-.92-.61A1 1 0 018 9.854zM8 4.14a1 1 0 011 1v3a1 1 0 11-2 0v-3a1 1 0 011-1z\"></path></svg></span></span>]"
      ]
     },
     "execution_count": 774,
     "metadata": {},
     "output_type": "execute_result"
    }
   ],
   "source": [
    "\n",
    "    \n",
    "driver = webdriver.Firefox(options=options) #options=options \n",
    "driver.get('https://www.yelp.com/biz/urban-harvest-brewing-company-milwaukee')\n",
    "            \n",
    "source = driver.page_source\n",
    "soup8 = BeautifulSoup(source, 'html.parser')   \n",
    "\n",
    "price = soup8.select(\".claim-text--light__373c0__1ip1u\")\n",
    "price"
   ]
  },
  {
   "cell_type": "code",
   "execution_count": 779,
   "id": "49bdce9d",
   "metadata": {},
   "outputs": [],
   "source": [
    "updates=soup8.select('.css-gdi06s')\n",
    "updates[0].string"
   ]
  },
  {
   "cell_type": "code",
   "execution_count": 773,
   "id": "80f451b6",
   "metadata": {},
   "outputs": [
    {
     "data": {
      "text/plain": [
       "[<span class=\"claim-text--light__373c0__1ip1u css-df2qti\"><span aria-hidden=\"true\" class=\"icon--16-claim-filled-v2 css-1jnn9ss\"><svg class=\"icon_svg\" height=\"16\" width=\"16\"><path clip-rule=\"evenodd\" d=\"M1 8a7 7 0 1114 0A7 7 0 011 8zm7 2.51l3.58-3.6a1 1 0 10-1.41-1.42l-2.89 2.9-.94-.94a1 1 0 10-1.42 1.41l1.67 1.65a1 1 0 001.41 0z\" fill-rule=\"evenodd\"></path></svg></span> <!-- -->Claimed</span>]"
      ]
     },
     "execution_count": 773,
     "metadata": {},
     "output_type": "execute_result"
    }
   ],
   "source": [
    "price = soup2.select(\".claim-text--light__373c0__1ip1u\")\n",
    "price"
   ]
  },
  {
   "cell_type": "code",
   "execution_count": null,
   "id": "f8c2c282",
   "metadata": {},
   "outputs": [],
   "source": [
    "    price=str(price)\n",
    "    price = re.search('>(.+?)<', price)\n",
    "    if price:\n",
    "        price = price.group(1)"
   ]
  },
  {
   "cell_type": "code",
   "execution_count": null,
   "id": "a5c81eb0",
   "metadata": {},
   "outputs": [],
   "source": [
    "#driver.find_element_by_css_selector('[class=\" css-174jypu\"]').click()"
   ]
  },
  {
   "cell_type": "code",
   "execution_count": 759,
   "id": "81b55c9b",
   "metadata": {},
   "outputs": [
    {
     "data": {
      "text/plain": [
       "['https://www.yelp.com/biz/movida-hotel-madrid-milwaukee?osq=Restaurants']"
      ]
     },
     "execution_count": 759,
     "metadata": {},
     "output_type": "execute_result"
    }
   ],
   "source": [
    "linking=Links[11:12]\n",
    "linking"
   ]
  },
  {
   "cell_type": "code",
   "execution_count": null,
   "id": "89e00e71",
   "metadata": {},
   "outputs": [],
   "source": [
    "restaurant_about = []\n",
    "\n",
    "for item in soup1.select('[class*=container]'):\n",
    "    if item.find('h5'):\n",
    "        print(item)\n",
    "        items=item.select('.css-ahxjws')\n",
    "        print(items[1])\n"
   ]
  },
  {
   "cell_type": "code",
   "execution_count": null,
   "id": "119d8d7d",
   "metadata": {},
   "outputs": [],
   "source": [
    "\n",
    "rating = soup.select(\".i-stars__373c0__1T6rz i-stars--large-4-half__373c0__2lYkD border-color--default__373c0__30oMI overflow--hidden__373c0__2B0kz\")"
   ]
  },
  {
   "cell_type": "code",
   "execution_count": null,
   "id": "e4614ff9",
   "metadata": {},
   "outputs": [],
   "source": [
    "            \n",
    "            css-gdi06s\n",
    "\n",
    "            head = driver.find_element_by_css_selector('')\n",
    "            headline = head.text.strip()\n",
    "            headline_lst =list(headline.split(\"\\n\"))\n",
    "            type_ = headline_lst[1] \n",
    "            name = headline_lst[2]\n",
    "            beoordeling = headline_lst[3]\n",
    "        \n",
    "     #safe the title of the first object\n",
    "        #title = driver.find_element_by_id('HEADING')\n",
    "        #title = driver.title()\n",
    "    #getting source for beautiful soup\n",
    "        source = driver.page_source\n",
    "        soup = BeautifulSoup(source, 'html.parser')\n",
    "        soup_list = list(soup.stripped_strings)\n",
    "        catch = soup_list[15:25] #catch all\n",
    "        category = soup_list[18:19] #category\n",
    "        title = soup_list[20] #name of museum\n",
    "        rating = soup_list[21] #rating\n",
    "        \n",
    "    \n",
    "        #soup = soup.getText(',').strip()\n",
    "\n",
    "        #for string in soup.stripped_strings:\n",
    "         #   soup_out = repr(string)\n",
    "        \n",
    "        driver.quit()  \n",
    "        \n",
    "        #for _ in str(soup_out):\n",
    "         #   soup_outs.append(_)\n",
    "            \n",
    "        return type_, name, beoordeling, catch, category, rating, title  \n",
    "    except (NoSuchElementException, NameError):\n",
    "        print('element error!')\n",
    "        driver.quit()\n",
    "        no_element = 'no'\n",
    "        return no_element, no_element, no_element, no_element, no_element, no_element, no_element"
   ]
  },
  {
   "cell_type": "code",
   "execution_count": 396,
   "id": "1c856909",
   "metadata": {},
   "outputs": [
    {
     "data": {
      "text/plain": [
       "'https://www.yelp.com/biz/tusk-milwaukee-2?osq=Restaurants'"
      ]
     },
     "execution_count": 396,
     "metadata": {},
     "output_type": "execute_result"
    }
   ],
   "source": [
    "https://www.yelp.com/biz/odd-duck-milwaukee?osq=Restaurants&start=10\n",
    "    "
   ]
  },
  {
   "cell_type": "code",
   "execution_count": null,
   "id": "541dc19d",
   "metadata": {},
   "outputs": [],
   "source": [
    "url_yelp = \"https://www.yelp.com/search?find_desc=Restaurants&find_loc=Milwaukee%2C%20WI&start=\"\n",
    "\n",
    "for i in range(0,240,10):\n",
    "    \n",
    "    html = requests.get(url_yelp+str(i))\n",
    "    \n",
    "    soup = BeautifulSoup(html.content, 'lxml')\n",
    "    link = soup.select(\".css-166la90\")\n",
    "   \n",
    "    for link in links:\n",
    "        name_restaurant.append(link.string)\n",
    "        link_restaurant.append(link.get('href'))\n",
    "\n",
    "# Making sure we have everything\n",
    "print(name_restaurant)  \n",
    "print(link_restaurant)"
   ]
  },
  {
   "cell_type": "code",
   "execution_count": 597,
   "id": "1e27340f",
   "metadata": {},
   "outputs": [],
   "source": [
    "linklink=Links[6:8]\n",
    "restrest = Restaurants[6:8]"
   ]
  },
  {
   "cell_type": "code",
   "execution_count": 862,
   "id": "c1e3d58a",
   "metadata": {},
   "outputs": [
    {
     "data": {
      "text/html": [
       "<div>\n",
       "<style scoped>\n",
       "    .dataframe tbody tr th:only-of-type {\n",
       "        vertical-align: middle;\n",
       "    }\n",
       "\n",
       "    .dataframe tbody tr th {\n",
       "        vertical-align: top;\n",
       "    }\n",
       "\n",
       "    .dataframe thead th {\n",
       "        text-align: right;\n",
       "    }\n",
       "</style>\n",
       "<table border=\"1\" class=\"dataframe\">\n",
       "  <thead>\n",
       "    <tr style=\"text-align: right;\">\n",
       "      <th></th>\n",
       "      <th>Restaurant</th>\n",
       "      <th>Review</th>\n",
       "    </tr>\n",
       "  </thead>\n",
       "  <tbody>\n",
       "  </tbody>\n",
       "</table>\n",
       "</div>"
      ],
      "text/plain": [
       "Empty DataFrame\n",
       "Columns: [Restaurant, Review]\n",
       "Index: []"
      ]
     },
     "execution_count": 862,
     "metadata": {},
     "output_type": "execute_result"
    }
   ],
   "source": [
    "df5 = pd.DataFrame([],columns=['Restaurant', 'Review'])\n",
    "df5"
   ]
  },
  {
   "cell_type": "markdown",
   "id": "cd74724a",
   "metadata": {},
   "source": [
    "### Now on to the individual reviews"
   ]
  },
  {
   "cell_type": "code",
   "execution_count": null,
   "id": "4edf3d57",
   "metadata": {},
   "outputs": [],
   "source": [
    "enum_extract = enumerate(restrest)\n",
    "\n",
    "def getname():\n",
    "    key = next(enum_extract)\n",
    "    return str(key)\n",
    "restname = getname()"
   ]
  },
  {
   "cell_type": "code",
   "execution_count": 599,
   "id": "58bfd11c",
   "metadata": {},
   "outputs": [],
   "source": [
    "#we initialize a dataframe\n",
    "df1 = pd.DataFrame([],columns=['Restaurant', 'Review'])\n",
    "\n",
    "\n",
    "for l in linklink:\n",
    "    url_yelp = l\n",
    "    html = requests.get(url_yelp)\n",
    "    soup2 = BeautifulSoup(html.content, 'lxml')\n",
    "\n",
    "    ## we search for the number of sites to loop through\n",
    "    length=soup2.select('.css-e81eai')\n",
    "    length = str(length)\n",
    "    #we use a regular expression to filter out the total length of the reviews\n",
    "    length = re.search('>(\\d+) of (\\d+)<', length) \n",
    "    if length:\n",
    "        length1 = length.group(1)\n",
    "        length2 = int(length.group(2))\n",
    "    \n",
    "    reviews = []\n",
    "    for i in range(0,length2*10,10):\n",
    "        html = requests.get(url_yelp+'&start='+str(i))\n",
    "        soup3 = BeautifulSoup(html.content, 'lxml')\n",
    "        soupstring = str(soup3)\n",
    "        #this is the pattern for all the reviews, it will find all matches so we don't have to worry about not grabbing one. Though we will have to clean this up later\n",
    "        subsoup = re.findall('\"markupDisplayName\":(.+?),\"voterText\":', soupstring)\n",
    "        returneviews += subsoup\n",
    "        time.sleep(3)\n",
    "            \n",
    "    #outside of the last loop, we create a dict, where we zip the lists, and then we append the dict to the list   \n",
    "    restname = getname()\n",
    "    keys = [restname]*len(reviews)\n",
    "    review_list = list(zip(keys, reviews))\n",
    "\n",
    "    df2=pd.DataFrame(review_list, columns=['Restaurant','Review'])\n",
    "\n",
    "    frames= [df1, df2]\n",
    "    df1 = pd.concat(frames)\n",
    "       \n",
    "    time.sleep(3)    "
   ]
  },
  {
   "cell_type": "code",
   "execution_count": null,
   "id": "c3d43c7a",
   "metadata": {},
   "outputs": [],
   "source": []
  },
  {
   "cell_type": "code",
   "execution_count": 600,
   "id": "0f8f337c",
   "metadata": {},
   "outputs": [],
   "source": [
    "df1['Restaurant']=df1.Restaurant.astype('str')"
   ]
  },
  {
   "cell_type": "code",
   "execution_count": 601,
   "id": "0e690784",
   "metadata": {},
   "outputs": [
    {
     "data": {
      "text/plain": [
       "0         NaN\n",
       "0       False\n",
       "1       False\n",
       "2       False\n",
       "3       False\n",
       "        ...  \n",
       "1008    False\n",
       "1009    False\n",
       "1010    False\n",
       "1011    False\n",
       "1012    False\n",
       "Name: Review, Length: 1014, dtype: object"
      ]
     },
     "execution_count": 601,
     "metadata": {},
     "output_type": "execute_result"
    }
   ],
   "source": [
    "df1['Review'].str.contains('KC and Shelly S.')"
   ]
  },
  {
   "cell_type": "code",
   "execution_count": 603,
   "id": "a3bf754a",
   "metadata": {},
   "outputs": [],
   "source": [
    "df1.to_csv('trial.csv')"
   ]
  },
  {
   "cell_type": "code",
   "execution_count": 602,
   "id": "f5299e59",
   "metadata": {},
   "outputs": [
    {
     "data": {
      "text/plain": [
       "1014"
      ]
     },
     "execution_count": 602,
     "metadata": {},
     "output_type": "execute_result"
    }
   ],
   "source": [
    "df1.Review.nunique()"
   ]
  },
  {
   "cell_type": "code",
   "execution_count": 587,
   "id": "c74d5f07",
   "metadata": {},
   "outputs": [
    {
     "data": {
      "text/plain": [
       "0                                                    0\n",
       "0    \"KC and Shelly S.\",\"photoSrc\":\"https://s3-medi...\n",
       "1    \"Hart P.\",\"displayLocation\":\"Gallatin, TN\",\"al...\n",
       "2    \"Warren D.\",\"displayLocation\":\"Milwaukee, WI\",...\n",
       "3    \"Daniela B.\",\"displayLocation\":\"Brookfield, WI...\n",
       "Name: Review, dtype: object"
      ]
     },
     "execution_count": 587,
     "metadata": {},
     "output_type": "execute_result"
    }
   ],
   "source": [
    "df1.Review.head()"
   ]
  },
  {
   "cell_type": "code",
   "execution_count": null,
   "id": "ac939412",
   "metadata": {},
   "outputs": [],
   "source": [
    "soup.find_all(class_ = ' margin-b2__373c0__abANL border-color--default__373c0__2oFDT')[1].findChildren(class_ = ' css-1h1j0y3')"
   ]
  },
  {
   "cell_type": "code",
   "execution_count": 537,
   "id": "435c0a98",
   "metadata": {},
   "outputs": [
    {
     "data": {
      "text/plain": [
       "4"
      ]
     },
     "execution_count": 537,
     "metadata": {},
     "output_type": "execute_result"
    }
   ],
   "source": [
    "df1.Restaurant.nunique()"
   ]
  },
  {
   "cell_type": "code",
   "execution_count": 538,
   "id": "6b014d74",
   "metadata": {},
   "outputs": [
    {
     "data": {
      "text/html": [
       "<div>\n",
       "<style scoped>\n",
       "    .dataframe tbody tr th:only-of-type {\n",
       "        vertical-align: middle;\n",
       "    }\n",
       "\n",
       "    .dataframe tbody tr th {\n",
       "        vertical-align: top;\n",
       "    }\n",
       "\n",
       "    .dataframe thead th {\n",
       "        text-align: right;\n",
       "    }\n",
       "</style>\n",
       "<table border=\"1\" class=\"dataframe\">\n",
       "  <thead>\n",
       "    <tr style=\"text-align: right;\">\n",
       "      <th></th>\n",
       "      <th>Restaurant</th>\n",
       "      <th>Review</th>\n",
       "    </tr>\n",
       "  </thead>\n",
       "  <tbody>\n",
       "    <tr>\n",
       "      <th>699</th>\n",
       "      <td>El Beso Milwaukee - Mexican Restaurante &amp; Cantina</td>\n",
       "      <td>\"Tabitha J.\",\"displayLocation\":\"Slidell, LA\",\"...</td>\n",
       "    </tr>\n",
       "    <tr>\n",
       "      <th>700</th>\n",
       "      <td>El Beso Milwaukee - Mexican Restaurante &amp; Cantina</td>\n",
       "      <td>\"Jessica J.\",\"displayLocation\":\"Milwaukee, WI\"...</td>\n",
       "    </tr>\n",
       "    <tr>\n",
       "      <th>701</th>\n",
       "      <td>El Beso Milwaukee - Mexican Restaurante &amp; Cantina</td>\n",
       "      <td>\"Christian N.\",\"displayLocation\":\"Brentwood, C...</td>\n",
       "    </tr>\n",
       "    <tr>\n",
       "      <th>702</th>\n",
       "      <td>El Beso Milwaukee - Mexican Restaurante &amp; Cantina</td>\n",
       "      <td>\"Linda B.\",\"displayLocation\":\"Milwaukee, WI\",\"...</td>\n",
       "    </tr>\n",
       "    <tr>\n",
       "      <th>703</th>\n",
       "      <td>El Beso Milwaukee - Mexican Restaurante &amp; Cantina</td>\n",
       "      <td>\"Linda B.\",\"displayLocation\":\"Milwaukee, WI\",\"...</td>\n",
       "    </tr>\n",
       "  </tbody>\n",
       "</table>\n",
       "</div>"
      ],
      "text/plain": [
       "                                            Restaurant  \\\n",
       "699  El Beso Milwaukee - Mexican Restaurante & Cantina   \n",
       "700  El Beso Milwaukee - Mexican Restaurante & Cantina   \n",
       "701  El Beso Milwaukee - Mexican Restaurante & Cantina   \n",
       "702  El Beso Milwaukee - Mexican Restaurante & Cantina   \n",
       "703  El Beso Milwaukee - Mexican Restaurante & Cantina   \n",
       "\n",
       "                                                Review  \n",
       "699  \"Tabitha J.\",\"displayLocation\":\"Slidell, LA\",\"...  \n",
       "700  \"Jessica J.\",\"displayLocation\":\"Milwaukee, WI\"...  \n",
       "701  \"Christian N.\",\"displayLocation\":\"Brentwood, C...  \n",
       "702  \"Linda B.\",\"displayLocation\":\"Milwaukee, WI\",\"...  \n",
       "703  \"Linda B.\",\"displayLocation\":\"Milwaukee, WI\",\"...  "
      ]
     },
     "execution_count": 538,
     "metadata": {},
     "output_type": "execute_result"
    }
   ],
   "source": [
    "df1.tail()"
   ]
  },
  {
   "cell_type": "code",
   "execution_count": 539,
   "id": "763c57e3",
   "metadata": {},
   "outputs": [],
   "source": [
    "frames = [df4, df1]"
   ]
  },
  {
   "cell_type": "code",
   "execution_count": 540,
   "id": "63632652",
   "metadata": {},
   "outputs": [
    {
     "data": {
      "text/plain": [
       "167555"
      ]
     },
     "execution_count": 540,
     "metadata": {},
     "output_type": "execute_result"
    }
   ],
   "source": [
    "df4 = pd.concat(frames)\n",
    "len(df4)"
   ]
  },
  {
   "cell_type": "code",
   "execution_count": 556,
   "id": "3d24b696",
   "metadata": {},
   "outputs": [],
   "source": [
    "df4.to_csv('all_reviews.csv')"
   ]
  },
  {
   "cell_type": "code",
   "execution_count": 518,
   "id": "12f9ce83",
   "metadata": {},
   "outputs": [],
   "source": [
    "df_preliminary.to_csv('df_prelim.csv', index=False, header=False, encoding='utf8')"
   ]
  },
  {
   "cell_type": "code",
   "execution_count": 455,
   "id": "3b1129c2",
   "metadata": {},
   "outputs": [
    {
     "data": {
      "text/plain": [
       "704"
      ]
     },
     "execution_count": 455,
     "metadata": {},
     "output_type": "execute_result"
    }
   ],
   "source": [
    "len(values)"
   ]
  },
  {
   "cell_type": "code",
   "execution_count": 554,
   "id": "b373f54f",
   "metadata": {},
   "outputs": [
    {
     "data": {
      "text/plain": [
       "209"
      ]
     },
     "execution_count": 554,
     "metadata": {},
     "output_type": "execute_result"
    }
   ],
   "source": [
    "df4.Restaurant.nunique()"
   ]
  },
  {
   "cell_type": "code",
   "execution_count": 555,
   "id": "baa08108",
   "metadata": {},
   "outputs": [
    {
     "data": {
      "text/plain": [
       "167555"
      ]
     },
     "execution_count": 555,
     "metadata": {},
     "output_type": "execute_result"
    }
   ],
   "source": [
    "len(df4)"
   ]
  },
  {
   "cell_type": "code",
   "execution_count": 557,
   "id": "82cad2d6",
   "metadata": {},
   "outputs": [
    {
     "data": {
      "text/html": [
       "<div>\n",
       "<style scoped>\n",
       "    .dataframe tbody tr th:only-of-type {\n",
       "        vertical-align: middle;\n",
       "    }\n",
       "\n",
       "    .dataframe tbody tr th {\n",
       "        vertical-align: top;\n",
       "    }\n",
       "\n",
       "    .dataframe thead th {\n",
       "        text-align: right;\n",
       "    }\n",
       "</style>\n",
       "<table border=\"1\" class=\"dataframe\">\n",
       "  <thead>\n",
       "    <tr style=\"text-align: right;\">\n",
       "      <th></th>\n",
       "      <th>Restaurant</th>\n",
       "      <th>Review</th>\n",
       "    </tr>\n",
       "  </thead>\n",
       "  <tbody>\n",
       "    <tr>\n",
       "      <th>0</th>\n",
       "      <td>0</td>\n",
       "      <td>0</td>\n",
       "    </tr>\n",
       "    <tr>\n",
       "      <th>0</th>\n",
       "      <td>Rice N Roll Bistro</td>\n",
       "      <td>\"Amy S.\",\"displayLocation\":\"Milwaukee, WI\",\"al...</td>\n",
       "    </tr>\n",
       "    <tr>\n",
       "      <th>1</th>\n",
       "      <td>Rice N Roll Bistro</td>\n",
       "      <td>\"Suzanne R. W.\",\"displayLocation\":\"Allen, TX\",...</td>\n",
       "    </tr>\n",
       "    <tr>\n",
       "      <th>2</th>\n",
       "      <td>Rice N Roll Bistro</td>\n",
       "      <td>\"Sharon B.\",\"displayLocation\":\"Milwaukee, WI\",...</td>\n",
       "    </tr>\n",
       "    <tr>\n",
       "      <th>3</th>\n",
       "      <td>Rice N Roll Bistro</td>\n",
       "      <td>\"Peter K.\",\"displayLocation\":\"Brookfield, WI\",...</td>\n",
       "    </tr>\n",
       "    <tr>\n",
       "      <th>4</th>\n",
       "      <td>Rice N Roll Bistro</td>\n",
       "      <td>\"John F.\",\"displayLocation\":\"Valders, WI\",\"alt...</td>\n",
       "    </tr>\n",
       "    <tr>\n",
       "      <th>5</th>\n",
       "      <td>Rice N Roll Bistro</td>\n",
       "      <td>\"Jen W.\",\"displayLocation\":\"Milwaukee, WI\",\"al...</td>\n",
       "    </tr>\n",
       "    <tr>\n",
       "      <th>6</th>\n",
       "      <td>Rice N Roll Bistro</td>\n",
       "      <td>\"Tabitha J.\",\"displayLocation\":\"Slidell, LA\",\"...</td>\n",
       "    </tr>\n",
       "    <tr>\n",
       "      <th>7</th>\n",
       "      <td>Rice N Roll Bistro</td>\n",
       "      <td>\"Jessica J.\",\"displayLocation\":\"Milwaukee, WI\"...</td>\n",
       "    </tr>\n",
       "    <tr>\n",
       "      <th>8</th>\n",
       "      <td>Rice N Roll Bistro</td>\n",
       "      <td>\"Christian N.\",\"displayLocation\":\"Brentwood, C...</td>\n",
       "    </tr>\n",
       "    <tr>\n",
       "      <th>9</th>\n",
       "      <td>Rice N Roll Bistro</td>\n",
       "      <td>\"Linda B.\",\"displayLocation\":\"Milwaukee, WI\",\"...</td>\n",
       "    </tr>\n",
       "    <tr>\n",
       "      <th>10</th>\n",
       "      <td>Rice N Roll Bistro</td>\n",
       "      <td>\"Linda B.\",\"displayLocation\":\"Milwaukee, WI\",\"...</td>\n",
       "    </tr>\n",
       "    <tr>\n",
       "      <th>11</th>\n",
       "      <td>Rice N Roll Bistro</td>\n",
       "      <td>\"Amy S.\",\"displayLocation\":\"Milwaukee, WI\",\"al...</td>\n",
       "    </tr>\n",
       "    <tr>\n",
       "      <th>12</th>\n",
       "      <td>Rice N Roll Bistro</td>\n",
       "      <td>\"Suzanne R. W.\",\"displayLocation\":\"Allen, TX\",...</td>\n",
       "    </tr>\n",
       "    <tr>\n",
       "      <th>13</th>\n",
       "      <td>Rice N Roll Bistro</td>\n",
       "      <td>\"Sharon B.\",\"displayLocation\":\"Milwaukee, WI\",...</td>\n",
       "    </tr>\n",
       "    <tr>\n",
       "      <th>14</th>\n",
       "      <td>Rice N Roll Bistro</td>\n",
       "      <td>\"Peter K.\",\"displayLocation\":\"Brookfield, WI\",...</td>\n",
       "    </tr>\n",
       "    <tr>\n",
       "      <th>15</th>\n",
       "      <td>Rice N Roll Bistro</td>\n",
       "      <td>\"John F.\",\"displayLocation\":\"Valders, WI\",\"alt...</td>\n",
       "    </tr>\n",
       "    <tr>\n",
       "      <th>16</th>\n",
       "      <td>Rice N Roll Bistro</td>\n",
       "      <td>\"Jen W.\",\"displayLocation\":\"Milwaukee, WI\",\"al...</td>\n",
       "    </tr>\n",
       "    <tr>\n",
       "      <th>17</th>\n",
       "      <td>Rice N Roll Bistro</td>\n",
       "      <td>\"Tabitha J.\",\"displayLocation\":\"Slidell, LA\",\"...</td>\n",
       "    </tr>\n",
       "    <tr>\n",
       "      <th>18</th>\n",
       "      <td>Rice N Roll Bistro</td>\n",
       "      <td>\"Jessica J.\",\"displayLocation\":\"Milwaukee, WI\"...</td>\n",
       "    </tr>\n",
       "    <tr>\n",
       "      <th>19</th>\n",
       "      <td>Rice N Roll Bistro</td>\n",
       "      <td>\"Christian N.\",\"displayLocation\":\"Brentwood, C...</td>\n",
       "    </tr>\n",
       "    <tr>\n",
       "      <th>20</th>\n",
       "      <td>Rice N Roll Bistro</td>\n",
       "      <td>\"Linda B.\",\"displayLocation\":\"Milwaukee, WI\",\"...</td>\n",
       "    </tr>\n",
       "    <tr>\n",
       "      <th>21</th>\n",
       "      <td>Rice N Roll Bistro</td>\n",
       "      <td>\"Linda B.\",\"displayLocation\":\"Milwaukee, WI\",\"...</td>\n",
       "    </tr>\n",
       "    <tr>\n",
       "      <th>22</th>\n",
       "      <td>Rice N Roll Bistro</td>\n",
       "      <td>\"Amy S.\",\"displayLocation\":\"Milwaukee, WI\",\"al...</td>\n",
       "    </tr>\n",
       "    <tr>\n",
       "      <th>23</th>\n",
       "      <td>Rice N Roll Bistro</td>\n",
       "      <td>\"Suzanne R. W.\",\"displayLocation\":\"Allen, TX\",...</td>\n",
       "    </tr>\n",
       "    <tr>\n",
       "      <th>24</th>\n",
       "      <td>Rice N Roll Bistro</td>\n",
       "      <td>\"Sharon B.\",\"displayLocation\":\"Milwaukee, WI\",...</td>\n",
       "    </tr>\n",
       "    <tr>\n",
       "      <th>25</th>\n",
       "      <td>Rice N Roll Bistro</td>\n",
       "      <td>\"Peter K.\",\"displayLocation\":\"Brookfield, WI\",...</td>\n",
       "    </tr>\n",
       "    <tr>\n",
       "      <th>26</th>\n",
       "      <td>Rice N Roll Bistro</td>\n",
       "      <td>\"John F.\",\"displayLocation\":\"Valders, WI\",\"alt...</td>\n",
       "    </tr>\n",
       "    <tr>\n",
       "      <th>27</th>\n",
       "      <td>Rice N Roll Bistro</td>\n",
       "      <td>\"Jen W.\",\"displayLocation\":\"Milwaukee, WI\",\"al...</td>\n",
       "    </tr>\n",
       "    <tr>\n",
       "      <th>28</th>\n",
       "      <td>Rice N Roll Bistro</td>\n",
       "      <td>\"Tabitha J.\",\"displayLocation\":\"Slidell, LA\",\"...</td>\n",
       "    </tr>\n",
       "    <tr>\n",
       "      <th>29</th>\n",
       "      <td>Rice N Roll Bistro</td>\n",
       "      <td>\"Jessica J.\",\"displayLocation\":\"Milwaukee, WI\"...</td>\n",
       "    </tr>\n",
       "    <tr>\n",
       "      <th>30</th>\n",
       "      <td>Rice N Roll Bistro</td>\n",
       "      <td>\"Christian N.\",\"displayLocation\":\"Brentwood, C...</td>\n",
       "    </tr>\n",
       "    <tr>\n",
       "      <th>31</th>\n",
       "      <td>Rice N Roll Bistro</td>\n",
       "      <td>\"Linda B.\",\"displayLocation\":\"Milwaukee, WI\",\"...</td>\n",
       "    </tr>\n",
       "    <tr>\n",
       "      <th>32</th>\n",
       "      <td>Rice N Roll Bistro</td>\n",
       "      <td>\"Linda B.\",\"displayLocation\":\"Milwaukee, WI\",\"...</td>\n",
       "    </tr>\n",
       "    <tr>\n",
       "      <th>33</th>\n",
       "      <td>Rice N Roll Bistro</td>\n",
       "      <td>\"Amy S.\",\"displayLocation\":\"Milwaukee, WI\",\"al...</td>\n",
       "    </tr>\n",
       "    <tr>\n",
       "      <th>34</th>\n",
       "      <td>Rice N Roll Bistro</td>\n",
       "      <td>\"Suzanne R. W.\",\"displayLocation\":\"Allen, TX\",...</td>\n",
       "    </tr>\n",
       "    <tr>\n",
       "      <th>35</th>\n",
       "      <td>Rice N Roll Bistro</td>\n",
       "      <td>\"Sharon B.\",\"displayLocation\":\"Milwaukee, WI\",...</td>\n",
       "    </tr>\n",
       "    <tr>\n",
       "      <th>36</th>\n",
       "      <td>Rice N Roll Bistro</td>\n",
       "      <td>\"Peter K.\",\"displayLocation\":\"Brookfield, WI\",...</td>\n",
       "    </tr>\n",
       "    <tr>\n",
       "      <th>37</th>\n",
       "      <td>Rice N Roll Bistro</td>\n",
       "      <td>\"John F.\",\"displayLocation\":\"Valders, WI\",\"alt...</td>\n",
       "    </tr>\n",
       "    <tr>\n",
       "      <th>38</th>\n",
       "      <td>Rice N Roll Bistro</td>\n",
       "      <td>\"Jen W.\",\"displayLocation\":\"Milwaukee, WI\",\"al...</td>\n",
       "    </tr>\n",
       "    <tr>\n",
       "      <th>39</th>\n",
       "      <td>Rice N Roll Bistro</td>\n",
       "      <td>\"Tabitha J.\",\"displayLocation\":\"Slidell, LA\",\"...</td>\n",
       "    </tr>\n",
       "    <tr>\n",
       "      <th>40</th>\n",
       "      <td>Rice N Roll Bistro</td>\n",
       "      <td>\"Jessica J.\",\"displayLocation\":\"Milwaukee, WI\"...</td>\n",
       "    </tr>\n",
       "    <tr>\n",
       "      <th>41</th>\n",
       "      <td>Rice N Roll Bistro</td>\n",
       "      <td>\"Christian N.\",\"displayLocation\":\"Brentwood, C...</td>\n",
       "    </tr>\n",
       "    <tr>\n",
       "      <th>42</th>\n",
       "      <td>Rice N Roll Bistro</td>\n",
       "      <td>\"Linda B.\",\"displayLocation\":\"Milwaukee, WI\",\"...</td>\n",
       "    </tr>\n",
       "    <tr>\n",
       "      <th>43</th>\n",
       "      <td>Rice N Roll Bistro</td>\n",
       "      <td>\"Linda B.\",\"displayLocation\":\"Milwaukee, WI\",\"...</td>\n",
       "    </tr>\n",
       "    <tr>\n",
       "      <th>44</th>\n",
       "      <td>Rice N Roll Bistro</td>\n",
       "      <td>\"Amy S.\",\"displayLocation\":\"Milwaukee, WI\",\"al...</td>\n",
       "    </tr>\n",
       "    <tr>\n",
       "      <th>45</th>\n",
       "      <td>Rice N Roll Bistro</td>\n",
       "      <td>\"Suzanne R. W.\",\"displayLocation\":\"Allen, TX\",...</td>\n",
       "    </tr>\n",
       "    <tr>\n",
       "      <th>46</th>\n",
       "      <td>Rice N Roll Bistro</td>\n",
       "      <td>\"Sharon B.\",\"displayLocation\":\"Milwaukee, WI\",...</td>\n",
       "    </tr>\n",
       "    <tr>\n",
       "      <th>47</th>\n",
       "      <td>Rice N Roll Bistro</td>\n",
       "      <td>\"Peter K.\",\"displayLocation\":\"Brookfield, WI\",...</td>\n",
       "    </tr>\n",
       "    <tr>\n",
       "      <th>48</th>\n",
       "      <td>Rice N Roll Bistro</td>\n",
       "      <td>\"John F.\",\"displayLocation\":\"Valders, WI\",\"alt...</td>\n",
       "    </tr>\n",
       "    <tr>\n",
       "      <th>49</th>\n",
       "      <td>Rice N Roll Bistro</td>\n",
       "      <td>\"Jen W.\",\"displayLocation\":\"Milwaukee, WI\",\"al...</td>\n",
       "    </tr>\n",
       "    <tr>\n",
       "      <th>50</th>\n",
       "      <td>Rice N Roll Bistro</td>\n",
       "      <td>\"Tabitha J.\",\"displayLocation\":\"Slidell, LA\",\"...</td>\n",
       "    </tr>\n",
       "    <tr>\n",
       "      <th>51</th>\n",
       "      <td>Rice N Roll Bistro</td>\n",
       "      <td>\"Jessica J.\",\"displayLocation\":\"Milwaukee, WI\"...</td>\n",
       "    </tr>\n",
       "    <tr>\n",
       "      <th>52</th>\n",
       "      <td>Rice N Roll Bistro</td>\n",
       "      <td>\"Christian N.\",\"displayLocation\":\"Brentwood, C...</td>\n",
       "    </tr>\n",
       "    <tr>\n",
       "      <th>53</th>\n",
       "      <td>Rice N Roll Bistro</td>\n",
       "      <td>\"Linda B.\",\"displayLocation\":\"Milwaukee, WI\",\"...</td>\n",
       "    </tr>\n",
       "    <tr>\n",
       "      <th>54</th>\n",
       "      <td>Rice N Roll Bistro</td>\n",
       "      <td>\"Linda B.\",\"displayLocation\":\"Milwaukee, WI\",\"...</td>\n",
       "    </tr>\n",
       "    <tr>\n",
       "      <th>55</th>\n",
       "      <td>Rice N Roll Bistro</td>\n",
       "      <td>\"Amy S.\",\"displayLocation\":\"Milwaukee, WI\",\"al...</td>\n",
       "    </tr>\n",
       "    <tr>\n",
       "      <th>56</th>\n",
       "      <td>Rice N Roll Bistro</td>\n",
       "      <td>\"Suzanne R. W.\",\"displayLocation\":\"Allen, TX\",...</td>\n",
       "    </tr>\n",
       "    <tr>\n",
       "      <th>57</th>\n",
       "      <td>Rice N Roll Bistro</td>\n",
       "      <td>\"Sharon B.\",\"displayLocation\":\"Milwaukee, WI\",...</td>\n",
       "    </tr>\n",
       "    <tr>\n",
       "      <th>58</th>\n",
       "      <td>Rice N Roll Bistro</td>\n",
       "      <td>\"Peter K.\",\"displayLocation\":\"Brookfield, WI\",...</td>\n",
       "    </tr>\n",
       "  </tbody>\n",
       "</table>\n",
       "</div>"
      ],
      "text/plain": [
       "            Restaurant                                             Review\n",
       "0                    0                                                  0\n",
       "0   Rice N Roll Bistro  \"Amy S.\",\"displayLocation\":\"Milwaukee, WI\",\"al...\n",
       "1   Rice N Roll Bistro  \"Suzanne R. W.\",\"displayLocation\":\"Allen, TX\",...\n",
       "2   Rice N Roll Bistro  \"Sharon B.\",\"displayLocation\":\"Milwaukee, WI\",...\n",
       "3   Rice N Roll Bistro  \"Peter K.\",\"displayLocation\":\"Brookfield, WI\",...\n",
       "4   Rice N Roll Bistro  \"John F.\",\"displayLocation\":\"Valders, WI\",\"alt...\n",
       "5   Rice N Roll Bistro  \"Jen W.\",\"displayLocation\":\"Milwaukee, WI\",\"al...\n",
       "6   Rice N Roll Bistro  \"Tabitha J.\",\"displayLocation\":\"Slidell, LA\",\"...\n",
       "7   Rice N Roll Bistro  \"Jessica J.\",\"displayLocation\":\"Milwaukee, WI\"...\n",
       "8   Rice N Roll Bistro  \"Christian N.\",\"displayLocation\":\"Brentwood, C...\n",
       "9   Rice N Roll Bistro  \"Linda B.\",\"displayLocation\":\"Milwaukee, WI\",\"...\n",
       "10  Rice N Roll Bistro  \"Linda B.\",\"displayLocation\":\"Milwaukee, WI\",\"...\n",
       "11  Rice N Roll Bistro  \"Amy S.\",\"displayLocation\":\"Milwaukee, WI\",\"al...\n",
       "12  Rice N Roll Bistro  \"Suzanne R. W.\",\"displayLocation\":\"Allen, TX\",...\n",
       "13  Rice N Roll Bistro  \"Sharon B.\",\"displayLocation\":\"Milwaukee, WI\",...\n",
       "14  Rice N Roll Bistro  \"Peter K.\",\"displayLocation\":\"Brookfield, WI\",...\n",
       "15  Rice N Roll Bistro  \"John F.\",\"displayLocation\":\"Valders, WI\",\"alt...\n",
       "16  Rice N Roll Bistro  \"Jen W.\",\"displayLocation\":\"Milwaukee, WI\",\"al...\n",
       "17  Rice N Roll Bistro  \"Tabitha J.\",\"displayLocation\":\"Slidell, LA\",\"...\n",
       "18  Rice N Roll Bistro  \"Jessica J.\",\"displayLocation\":\"Milwaukee, WI\"...\n",
       "19  Rice N Roll Bistro  \"Christian N.\",\"displayLocation\":\"Brentwood, C...\n",
       "20  Rice N Roll Bistro  \"Linda B.\",\"displayLocation\":\"Milwaukee, WI\",\"...\n",
       "21  Rice N Roll Bistro  \"Linda B.\",\"displayLocation\":\"Milwaukee, WI\",\"...\n",
       "22  Rice N Roll Bistro  \"Amy S.\",\"displayLocation\":\"Milwaukee, WI\",\"al...\n",
       "23  Rice N Roll Bistro  \"Suzanne R. W.\",\"displayLocation\":\"Allen, TX\",...\n",
       "24  Rice N Roll Bistro  \"Sharon B.\",\"displayLocation\":\"Milwaukee, WI\",...\n",
       "25  Rice N Roll Bistro  \"Peter K.\",\"displayLocation\":\"Brookfield, WI\",...\n",
       "26  Rice N Roll Bistro  \"John F.\",\"displayLocation\":\"Valders, WI\",\"alt...\n",
       "27  Rice N Roll Bistro  \"Jen W.\",\"displayLocation\":\"Milwaukee, WI\",\"al...\n",
       "28  Rice N Roll Bistro  \"Tabitha J.\",\"displayLocation\":\"Slidell, LA\",\"...\n",
       "29  Rice N Roll Bistro  \"Jessica J.\",\"displayLocation\":\"Milwaukee, WI\"...\n",
       "30  Rice N Roll Bistro  \"Christian N.\",\"displayLocation\":\"Brentwood, C...\n",
       "31  Rice N Roll Bistro  \"Linda B.\",\"displayLocation\":\"Milwaukee, WI\",\"...\n",
       "32  Rice N Roll Bistro  \"Linda B.\",\"displayLocation\":\"Milwaukee, WI\",\"...\n",
       "33  Rice N Roll Bistro  \"Amy S.\",\"displayLocation\":\"Milwaukee, WI\",\"al...\n",
       "34  Rice N Roll Bistro  \"Suzanne R. W.\",\"displayLocation\":\"Allen, TX\",...\n",
       "35  Rice N Roll Bistro  \"Sharon B.\",\"displayLocation\":\"Milwaukee, WI\",...\n",
       "36  Rice N Roll Bistro  \"Peter K.\",\"displayLocation\":\"Brookfield, WI\",...\n",
       "37  Rice N Roll Bistro  \"John F.\",\"displayLocation\":\"Valders, WI\",\"alt...\n",
       "38  Rice N Roll Bistro  \"Jen W.\",\"displayLocation\":\"Milwaukee, WI\",\"al...\n",
       "39  Rice N Roll Bistro  \"Tabitha J.\",\"displayLocation\":\"Slidell, LA\",\"...\n",
       "40  Rice N Roll Bistro  \"Jessica J.\",\"displayLocation\":\"Milwaukee, WI\"...\n",
       "41  Rice N Roll Bistro  \"Christian N.\",\"displayLocation\":\"Brentwood, C...\n",
       "42  Rice N Roll Bistro  \"Linda B.\",\"displayLocation\":\"Milwaukee, WI\",\"...\n",
       "43  Rice N Roll Bistro  \"Linda B.\",\"displayLocation\":\"Milwaukee, WI\",\"...\n",
       "44  Rice N Roll Bistro  \"Amy S.\",\"displayLocation\":\"Milwaukee, WI\",\"al...\n",
       "45  Rice N Roll Bistro  \"Suzanne R. W.\",\"displayLocation\":\"Allen, TX\",...\n",
       "46  Rice N Roll Bistro  \"Sharon B.\",\"displayLocation\":\"Milwaukee, WI\",...\n",
       "47  Rice N Roll Bistro  \"Peter K.\",\"displayLocation\":\"Brookfield, WI\",...\n",
       "48  Rice N Roll Bistro  \"John F.\",\"displayLocation\":\"Valders, WI\",\"alt...\n",
       "49  Rice N Roll Bistro  \"Jen W.\",\"displayLocation\":\"Milwaukee, WI\",\"al...\n",
       "50  Rice N Roll Bistro  \"Tabitha J.\",\"displayLocation\":\"Slidell, LA\",\"...\n",
       "51  Rice N Roll Bistro  \"Jessica J.\",\"displayLocation\":\"Milwaukee, WI\"...\n",
       "52  Rice N Roll Bistro  \"Christian N.\",\"displayLocation\":\"Brentwood, C...\n",
       "53  Rice N Roll Bistro  \"Linda B.\",\"displayLocation\":\"Milwaukee, WI\",\"...\n",
       "54  Rice N Roll Bistro  \"Linda B.\",\"displayLocation\":\"Milwaukee, WI\",\"...\n",
       "55  Rice N Roll Bistro  \"Amy S.\",\"displayLocation\":\"Milwaukee, WI\",\"al...\n",
       "56  Rice N Roll Bistro  \"Suzanne R. W.\",\"displayLocation\":\"Allen, TX\",...\n",
       "57  Rice N Roll Bistro  \"Sharon B.\",\"displayLocation\":\"Milwaukee, WI\",...\n",
       "58  Rice N Roll Bistro  \"Peter K.\",\"displayLocation\":\"Brookfield, WI\",..."
      ]
     },
     "execution_count": 557,
     "metadata": {},
     "output_type": "execute_result"
    }
   ],
   "source": [
    "df4.head(60)"
   ]
  },
  {
   "cell_type": "code",
   "execution_count": null,
   "id": "80137660",
   "metadata": {},
   "outputs": [],
   "source": [
    "df4"
   ]
  },
  {
   "cell_type": "code",
   "execution_count": 456,
   "id": "5bc8fd6a",
   "metadata": {},
   "outputs": [
    {
     "data": {
      "text/plain": [
       "'\"Suzanne R. W.\",\"displayLocation\":\"Allen, TX\",\"altText\":\"Suzanne R. W.\",\"userUrl\":\"/user_details?userid=cBX4WOO0lCGwGt8-QTbqwQ\",\"partnerAlias\":null,\"friendCount\":15,\"photoCount\":8,\"reviewCount\":13,\"eliteYear\":null},\"comment\":{\"text\":\"Stopped in before the Brewers game and it&amp;#39;s really close to the park. Checked into Yelp and was 60 in line on the waiting list an hour prior. Checked in and waited another 30 mins in person. Plan ahead and it&amp;#39;s worth it.\",\"language\":\"en\"},\"localizedDate\":\"4/18/2021\",\"localizedDateVisited\":null,\"rating\":5,\"photos\":[{\"src\":\"https://s3-media0.fl.yelpcdn.com/bphoto/a1TqGJiU_YcX_RQ07FxItA/300s.jpg\",\"link\":\"/biz_photos/mad-rooster-cafe-west-milwaukee?reviewid=TQxlU20iUELxJ3al5Xk9UA&amp;select=a1TqGJiU_YcX_RQ07FxItA\",\"altText\":\"Photo of Mad Rooster Cafe - West Milwaukee, WI, United States. The Bavarian creme stuffed French toast with a side of sausage. Was really yummy!\",\"width\":300,\"height\":300,\"caption\":\"The Bavarian creme stuffed French toast with a side of sausage. Was really yummy!\"}],\"lightboxMediaItems\":[{\"business\":{\"alias\":\"mad-rooster-cafe-west-milwaukee\",\"id\":\"z2XcXJD9K_d_bMzY_NEOFw\",\"name\":\"Mad Rooster Cafe\"},\"businessAvatar\":{\"altText\":\"Mad Rooster Cafe\",\"height\":30,\"src\":\"https://s3-media0.fl.yelpcdn.com/bphoto/Hg8RfwYnH31BHa5ZIG_WrQ/30s.jpg\",\"srcSet\":\"https://s3-media0.fl.yelpcdn.com/bphoto/Hg8RfwYnH31BHa5ZIG_WrQ/ss.jpg 1.33x,https://s3-media0.fl.yelpcdn.com/bphoto/Hg8RfwYnH31BHa5ZIG_WrQ/60s.jpg 2.00x,https://s3-media0.fl.yelpcdn.com/bphoto/Hg8RfwYnH31BHa5ZIG_WrQ/90s.jpg 3.00x\",\"url\":\"/biz/mad-rooster-cafe-west-milwaukee\",\"width\":30},\"caption\":\"The Bavarian creme stuffed French toast with a side of sausage. Was really yummy!\",\"helpfulCount\":0,\"id\":\"a1TqGJiU_YcX_RQ07FxItA\",\"timeUploaded\":\"April 18, 2021\",\"type\":\"photo\",\"url\":\"https://s3-media0.fl.yelpcdn.com/bphoto/a1TqGJiU_YcX_RQ07FxItA/o.jpg\",\"user\":{\"avatar\":{\"linkUrl\":\"/user_details?userid=cBX4WOO0lCGwGt8-QTbqwQ\",\"srcUrl\":\"https://s3-media0.fl.yelpcdn.com/photo/04MaIZqkScSpnko36WRLyw/30s.jpg\",\"srcSetUrl\":\"https://s3-media0.fl.yelpcdn.com/photo/04MaIZqkScSpnko36WRLyw/ss.jpg 1.33x,https://s3-media0.fl.yelpcdn.com/photo/04MaIZqkScSpnko36WRLyw/60s.jpg 2.00x,https://s3-media0.fl.yelpcdn.com/photo/04MaIZqkScSpnko36WRLyw/90s.jpg 3.00x\"},\"displayName\":\"Suzanne R. W.\",\"eliteYear\":null,\"friendCount\":15,\"id\":\"cBX4WOO0lCGwGt8-QTbqwQ\",\"isCurrentlyElite\":false,\"reviewCount\":13,\"url\":\"/user_details?userid=cBX4WOO0lCGwGt8-QTbqwQ\"},\"userVote\":\"NoVote\"}],\"photosUrl\":\"/biz_photos/mad-rooster-cafe-west-milwaukee?userid=cBX4WOO0lCGwGt8-QTbqwQ\",\"totalPhotos\":1,\"feedback\":{\"counts\":{\"useful\":0,\"funny\":0,\"cool\":1},\"userFeedback\":{\"useful\":false,\"funny\":false,\"cool\":false}'"
      ]
     },
     "execution_count": 456,
     "metadata": {},
     "output_type": "execute_result"
    }
   ],
   "source": [
    "values[1]"
   ]
  },
  {
   "cell_type": "code",
   "execution_count": null,
   "id": "7d33ad92",
   "metadata": {},
   "outputs": [],
   "source": []
  }
 ],
 "metadata": {
  "kernelspec": {
   "display_name": "Python 3",
   "language": "python",
   "name": "python3"
  },
  "language_info": {
   "codemirror_mode": {
    "name": "ipython",
    "version": 3
   },
   "file_extension": ".py",
   "mimetype": "text/x-python",
   "name": "python",
   "nbconvert_exporter": "python",
   "pygments_lexer": "ipython3",
   "version": "3.7.9"
  }
 },
 "nbformat": 4,
 "nbformat_minor": 5
}
